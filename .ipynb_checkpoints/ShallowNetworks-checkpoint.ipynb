{
 "cells": [
  {
   "cell_type": "markdown",
   "metadata": {},
   "source": [
    "> Pacotes necessários"
   ]
  },
  {
   "cell_type": "code",
   "execution_count": 76,
   "metadata": {},
   "outputs": [],
   "source": [
    "import numpy as np\n",
    "import os\n",
    "\n",
    "import scipy\n",
    "from PIL import Image\n",
    "import matplotlib.pylab as plt\n",
    "import matplotlib.image as mpimg\n",
    "from matplotlib.pyplot import figure\n",
    "import importlib\n",
    "\n",
    "from time import monotonic as timer"
   ]
  },
  {
   "cell_type": "markdown",
   "metadata": {},
   "source": [
    "> Esta célula trata dos plots dos datasets com e sem preditions e a função que trata de fazer o parse do dataset"
   ]
  },
  {
   "cell_type": "code",
   "execution_count": 80,
   "metadata": {},
   "outputs": [],
   "source": [
    "def plot_data(row,col,n_row,n_col,data):\n",
    "    fig=plt.figure(figsize=(row,col))\n",
    "    for n in range(1, row*col +1):\n",
    "        img=np.reshape(data[n-1][:-1],(n_row,n_col))\n",
    "        fig.add_subplot(row, col, n)\n",
    "        plt.imshow(img,interpolation='none',cmap='binary')\n",
    "    plt.show()\n",
    "    \n",
    "def plot_tagged_data(row,col,n_row,n_col,X,Y,parameters): \n",
    "    fig=plt.figure(figsize=(row,col))\n",
    "    \n",
    "    l,cache = feed_forward(X.T,parameters,activation_function)\n",
    "    for n in range(row*col):\n",
    "        img=np.reshape(X[n],(n_row,n_col))\n",
    "        fig.add_subplot(row, col, n+1)\n",
    "           \n",
    "        if(l[0][n]>0.5):\n",
    "    \n",
    "            plt.imshow(img,interpolation='none',cmap='RdPu')\n",
    "        else:\n",
    "            plt.imshow(img,interpolation='none',cmap='cool')               \n",
    "    plt.show()\n",
    "    \n",
    "def read_asc_data(filename):    \n",
    "    f= open(filename,'r') \n",
    "    tmp_str=f.readline()\n",
    "    tmp_arr=tmp_str[:-1].split(' ')\n",
    "    N=int(tmp_arr[0]);n_row=int(tmp_arr[1]);n_col=int(tmp_arr[2])\n",
    "    data=np.zeros([N,n_row*n_col+1])\n",
    "    for n in range(N):\n",
    "        tmp_str=f.readline()\n",
    "        tmp_arr=tmp_str[:-1].split(' ')       \n",
    "        for i in range(n_row*n_col+1):\n",
    "            data[n][i]=int(tmp_arr[i])\n",
    "    f.close() \n",
    "    return N,n_row,n_col,data"
   ]
  },
  {
   "cell_type": "markdown",
   "metadata": {},
   "source": [
    "> Esta célula corre todas as funções de ativação e as suas derivadas"
   ]
  },
  {
   "cell_type": "code",
   "execution_count": 81,
   "metadata": {},
   "outputs": [],
   "source": [
    "# sigmoid function\n",
    "def sigmoid(z):\n",
    "    s = 1 / (1 + np.exp(-z));\n",
    "    return s;\n",
    "\n",
    "# relu function\n",
    "def relu(z):\n",
    "    return np.where( z <= 0, 0 , z)\n",
    "\n",
    "# swish function\n",
    "def swish(z):\n",
    "    s = z / (1 + np.exp(-z));\n",
    "    return s;\n",
    "\n",
    "#derivada swish\n",
    "def der_swish(z):\n",
    "    return (sigmoid(z)+z*sigmoid(1-sigmoid(z)))\n",
    "\n",
    "\n",
    "#derivada sigmoid\n",
    "def der_sigmoid(z):\n",
    "    return sigmoid(1-sigmoid(z))\n",
    "\n",
    "#derivada tangente hiperbólica\n",
    "def der_tanh(z):\n",
    "    return (1-np.power(z,2))\n",
    "\n",
    "#derivada relu\n",
    "def der_relu(z):\n",
    "    z[z<=0] = 0\n",
    "    z[z>0] = 1\n",
    "    return z\n",
    "\n",
    "#leaky_relu function\n",
    "def leaky_relu(z):\n",
    "    return np.where( z <= 0, 0.01*z, z)\n",
    "\n",
    "#derivada leaky_relu\n",
    "def der_leaky_relu(z):\n",
    "    z[z<=0]=0.01\n",
    "    z[z>0]=1\n",
    "    return z\n",
    "\n",
    "#normalization\n",
    "def normalization(ew):\n",
    "    return(ew/np.linalg.norm(ew,2))"
   ]
  },
  {
   "cell_type": "markdown",
   "metadata": {},
   "source": [
    "> Esta célula inicializa os parãmetros de uma rede neuronal, neste caso temos apenas dois layers\n",
    "\n",
    "> Input -> Hidden Layer -> Output\n"
   ]
  },
  {
   "cell_type": "code",
   "execution_count": 35,
   "metadata": {},
   "outputs": [],
   "source": [
    "# size of the fst and the last layer, and the hidden layer\n",
    "# assuming 1 hidden layer\n",
    "def inicializar_parameters(n_x,n_h,n_y):\n",
    "    \n",
    "    #w1 = np.zeros((n_h,n_x))\n",
    "    #w1 = normalization(w1)\n",
    "    w1 = np.random.randn(n_h,n_x) * 0.01;\n",
    "    b1 = np.zeros((n_h,1));\n",
    "    \n",
    "    #w2 = np.zeros((n_y,n_h))\n",
    "    #w2 = normalization(w2)\n",
    "    w2 = np.random.randn(n_y,n_h) * 0.01;\n",
    "    b2 = np.zeros((n_y,1));\n",
    "\n",
    "    parameters = {\n",
    "        \"w1\" : w1,\n",
    "        \"b1\" : b1,\n",
    "        \"w2\" : w2,\n",
    "        \"b2\" : b2\n",
    "    }\n",
    "\n",
    "    return parameters;\n"
   ]
  },
  {
   "cell_type": "markdown",
   "metadata": {},
   "source": [
    "> Esta célula faz o feed forward da rede, neste caso temos que especificar as funções de ativação\n",
    "\n",
    "> Input -> Função linear(z1) -> Função de Ativação -> Função linear(Z2) -> Função de Ativação(Sigmoid) (output)"
   ]
  },
  {
   "cell_type": "code",
   "execution_count": 36,
   "metadata": {},
   "outputs": [],
   "source": [
    "# i use the non-linear activation function called than, in the output layer i use sigmoid, cause this is a binary classification problem.\n",
    "def feed_forward(X,parameters,activation):\n",
    "    \n",
    "    \n",
    "    w1 = parameters[\"w1\"];\n",
    "    b1 = parameters[\"b1\"];\n",
    "    w2 = parameters[\"w2\"];\n",
    "    b2 = parameters[\"b2\"];\n",
    "\n",
    "    #feed_foward\n",
    "    Z1 = np.dot(w1,X) + b1; \n",
    "\n",
    "    if(activation == \"tanh\"):\n",
    "        A1 = np.tanh(Z1);\n",
    "    elif(activation == \"relu\"):\n",
    "        A1 = relu(Z1);\n",
    "    elif(activation == \"sigmoid\"):\n",
    "        A1 = sigmoid(Z1);\n",
    "    elif(activation == \"leaky_relu\"):\n",
    "        A1 = leaky_relu(Z1);\n",
    "    elif(activation == \"swish\"):\n",
    "        A1 = swish(Z1);\n",
    "        \n",
    "    Z2 = np.dot(w2,A1) + b2;\n",
    "    A2 = sigmoid(Z2);\n",
    "\n",
    "    cache = {\n",
    "        \"Z1\" : Z1,\n",
    "        \"A1\" : A1,\n",
    "        \"Z2\" : Z2,\n",
    "        \"A2\" : A2\n",
    "    }\n",
    "\n",
    "    return A2, cache;"
   ]
  },
  {
   "cell_type": "markdown",
   "metadata": {},
   "source": [
    "> Função custo"
   ]
  },
  {
   "cell_type": "code",
   "execution_count": 37,
   "metadata": {},
   "outputs": [],
   "source": [
    "def calculate_cost(A2,Yt):\n",
    "    #para não estar a fazer log de 0 acrescenta-se um eta\n",
    "    e = 1e-8\n",
    "    Cost = - np.sum(np.dot(Yt, np.log(A2+e).T) + np.dot(1 - Yt, np.log(1 - A2+e).T)) /m;  #cost function\n",
    "    return Cost;\n"
   ]
  },
  {
   "cell_type": "markdown",
   "metadata": {},
   "source": [
    "> Back propagation da rede, preciso as funções de ativação"
   ]
  },
  {
   "cell_type": "code",
   "execution_count": 38,
   "metadata": {},
   "outputs": [],
   "source": [
    "def back_propagation(X,Y,cache,parameters,activation):\n",
    "\n",
    "    A1 = cache[\"A1\"];\n",
    "    w1 = parameters[\"w1\"];\n",
    "    w2 = parameters[\"w2\"];\n",
    "    A2 = cache[\"A2\"];\n",
    "    \n",
    "    dZ2 = A2 - Y;\n",
    "    dW2 = np.dot(dZ2,A1.T)/m;\n",
    "    dB2 = np.sum(dZ2, axis=1, keepdims = True)/m;\n",
    "    \n",
    "    if(activation == \"relu\"):\n",
    "        dZ1 = np.multiply(np.dot(w2.T,dZ2), der_relu(A1));\n",
    "    if(activation == \"tanh\"):\n",
    "        dZ1 = np.multiply(np.dot(w2.T,dZ2), 1 - np.power(A1, 2));\n",
    "    if(activation == \"sigmoid\"):\n",
    "        dZ1 = np.multiply(np.dot(w2.T,dZ2),der_sigmoid(A1));\n",
    "    if(activation == \"leaky_relu\"):\n",
    "        dZ1 = np.multiply(np.dot(w2.T,dZ2), der_leaky_relu(A1));\n",
    "    if(activation == \"swish\"):\n",
    "        dZ1 = np.multiply(np.dot(w2.T,dZ2), der_swish(A1));\n",
    "        \n",
    "    dW1 = np.dot(dZ1,X.T)/m;\n",
    "    dB1 = np.sum(dZ1,axis = 1, keepdims = True)/m;\n",
    "\n",
    "    grads = {\n",
    "        \"dW2\" : dW2,\n",
    "        \"dB2\" : dB2,\n",
    "        \"dW1\" : dW1,\n",
    "        \"dB1\" : dB1\n",
    "    }\n",
    "\n",
    "    return grads;\n"
   ]
  },
  {
   "cell_type": "markdown",
   "metadata": {},
   "source": [
    "> Otimização de parâmetros, feito após ter corrido o back propagation, e obtido os respetivos gradientes"
   ]
  },
  {
   "cell_type": "code",
   "execution_count": 39,
   "metadata": {},
   "outputs": [],
   "source": [
    "def otimize_parameters(parameters,grads,learning_rate):\n",
    "    \n",
    "    w1 = parameters[\"w1\"];\n",
    "    w2 = parameters[\"w2\"];\n",
    "    b1 = parameters[\"b1\"];\n",
    "    b2 = parameters[\"b2\"];\n",
    "\n",
    "    \n",
    "    dW2 = grads[\"dW2\"];\n",
    "    dB2 = grads[\"dB2\"];\n",
    "    dW1 = grads[\"dW1\"];\n",
    "    dB1 = grads[\"dB1\"];\n",
    "\n",
    "    #uptade de parameters\n",
    "    w2 = w2 - learning_rate * dW2;\n",
    "    w1 = w1 - learning_rate * dW1;\n",
    "    b1 = b1 - learning_rate * dB1;\n",
    "    b2 = b2 - learning_rate * dB2;\n",
    "\n",
    "    parameters = {\n",
    "        \"w1\" : w1,\n",
    "        \"b1\" : b1,\n",
    "        \"w2\" : w2,\n",
    "        \"b2\" : b2\n",
    "    }\n",
    "\n",
    "    return parameters;"
   ]
  },
  {
   "cell_type": "markdown",
   "metadata": {},
   "source": [
    "> Esta célula reparte o dataset em vários batches"
   ]
  },
  {
   "cell_type": "code",
   "execution_count": 40,
   "metadata": {},
   "outputs": [],
   "source": [
    "def iterate_minibatches(inputs, targets, batchsize, shuffle=False):\n",
    "    inputs = inputs.T\n",
    "    targets = targets.T\n",
    "    assert inputs.shape[0] == targets.shape[0]\n",
    "    if shuffle:\n",
    "        indices = np.arange(inputs.shape[0])\n",
    "        np.random.shuffle(indices)\n",
    "    for start_idx in range(0, inputs.shape[0] - batchsize + 1, batchsize):\n",
    "        if shuffle:\n",
    "            excerpt = indices[start_idx:start_idx + batchsize]\n",
    "        else:\n",
    "            excerpt = slice(start_idx, start_idx + batchsize)\n",
    "        yield inputs[excerpt], targets[excerpt]"
   ]
  },
  {
   "cell_type": "markdown",
   "metadata": {},
   "source": [
    "> Modelo"
   ]
  },
  {
   "cell_type": "code",
   "execution_count": 41,
   "metadata": {},
   "outputs": [],
   "source": [
    "def model(n_h,epochs,learning_rate,activation,batch_size,show_info,shuffle=True):\n",
    "\n",
    "    np.random.seed(2) # we set up a seed so that your output matches ours although the initialization is random.\n",
    "    parameters = inicializar_parameters(Xt.shape[0],n_h,Yt.shape[0]);\n",
    "    \n",
    "    #previous_cost vai ser similar a um eraly stopping neste problema, qd o custo não diminuir em 100 epochs para de treinar\n",
    "    previous_cost = 1e3\n",
    "    previous_val_accuracy = 1\n",
    "    cost_arr=[]\n",
    "    costval_arr=[]\n",
    "    acc_train = []\n",
    "    acc_val = []\n",
    "    \n",
    "    times = []#array with the times of each epoch\n",
    "    \n",
    "    for i in range(0,epochs):\n",
    "        \n",
    "        begin = timer()\n",
    "        \n",
    "        \n",
    "        for batch in iterate_minibatches(Xt, Yt, batch_size, shuffle=True):\n",
    "            \n",
    "            x_batch, y_batch = batch\n",
    "            \n",
    "        \n",
    "            A2, cache = feed_forward(x_batch.T,parameters,activation);\n",
    "            grads = back_propagation(x_batch.T,y_batch.T,cache,parameters,activation);\n",
    "            parameters = otimize_parameters(parameters,grads,learning_rate);            \n",
    "        \n",
    "            #calculate the time in seconds\n",
    "        end = timer()\n",
    "        time = end-begin\n",
    "        times.append(time)\n",
    "        \n",
    "        \n",
    "        if(i%100 == 0):\n",
    "            \n",
    "            #validation cost calcultated here\n",
    "            A2_train, _ = feed_forward(Xt,parameters,activation);\n",
    "            A2_val, _ = feed_forward(Xval,parameters,activation);\n",
    "            \n",
    "            A2_val_plot = np.where(A2_val >= 0.5, 1 , 0)\n",
    "            A2_plot = np.where(A2_train >= 0.5, 1 , 0)\n",
    "            \n",
    "            accuracy_train = np.sum(np.equal(A2_plot,Yt))/(A2_train.shape[1])\n",
    "            accuracy_val = np.sum(np.equal(A2_val_plot,Yval))/(A2_val.shape[1])\n",
    "            \n",
    "            acc_train.append(accuracy_train)\n",
    "            acc_val.append(accuracy_val)\n",
    "            \n",
    "            \n",
    "            cost = calculate_cost(A2_train,Yt)\n",
    "            if(show_info == True):\n",
    "                print(\"Cost of iteration \" + str(i) + \" = \" + str(cost) + \" and accuracy train of = \" + str(accuracy_train));\n",
    "            costval = calculate_cost(A2_val,Yval)\n",
    "            if(show_info == True):\n",
    "                print(\"Cost of validation iteration \" + str(i) + \" = \" + str(costval) + \" and accuracy val of = \" + str(accuracy_val));\n",
    "            \n",
    "            #parar se o cost em 100 iterações doir maior ao igual que o de -100 iterações\n",
    "            if(cost >= previous_cost or (accuracy_train == 1 or accuracy_val == 1)):\n",
    "                break\n",
    "\n",
    "            previous_cost = cost\n",
    "            cost_arr.append(cost)\n",
    "            costval_arr.append(costval)\n",
    "    \n",
    "    if(show_info == True):\n",
    "        figure(figsize=(15, 5))\n",
    "        #primeiros dois números são as shapes,  linha e coluna, 3 index é onde está o gráfico\n",
    "        plt.subplot(1, 2, 1)\n",
    "        plt.plot(cost_arr)\n",
    "        plt.plot(costval_arr)\n",
    "        plt.title('model cost')\n",
    "        plt.ylabel('loss')\n",
    "        plt.xlabel('iteration')\n",
    "        plt.legend(['train', 'validation'], loc='upper left')\n",
    "    \n",
    "\n",
    "        plt.subplot(1, 2, 2)    \n",
    "        plt.plot(acc_train)\n",
    "        plt.plot(acc_val)\n",
    "        plt.title('model accuracy')\n",
    "        plt.ylabel('Accuracy')\n",
    "        plt.xlabel('iteration')\n",
    "        plt.legend(['train', 'validation'], loc='upper left')\n",
    "        plt.show()\n",
    "    \n",
    "    return cache,parameters,times,accuracy_train,accuracy_val,i"
   ]
  },
  {
   "cell_type": "code",
   "execution_count": 98,
   "metadata": {
    "scrolled": true
   },
   "outputs": [
    {
     "name": "stdout",
     "output_type": "stream",
     "text": [
      "find 1500 images of 12 X 12 pixels\n"
     ]
    },
    {
     "data": {
      "image/png": "[encoded data removed]",
      "text/plain": [
       "<Figure size 720x720 with 100 Axes>"
      ]
     },
     "metadata": {
      "needs_background": "light"
     },
     "output_type": "display_data"
    },
    {
     "name": "stdout",
     "output_type": "stream",
     "text": [
      "\n",
      "Information about the dataset : \n",
      "We have 444.0 images with label = 1 and 456.0 images with label = 0\n",
      "\n"
     ]
    }
   ],
   "source": [
    "# =========== Setting dataset ================\n",
    "#1 xor\n",
    "#2 quadrados e circulos\n",
    "#3 retangulos verticais e horizontais\n",
    "\n",
    "def import_dataset(name):\n",
    "\n",
    "    if(name == \"1\"):\n",
    "        Xt = np.array([ [0,0],[1,0],[0,1],[1,1]])\n",
    "        Yt = np.array([0,1,1,0]) \n",
    "    elif(name == \"2\"):\n",
    "        N,n_row,n_col,data=read_asc_data('dataSets/square_circle.txt')\n",
    "    elif(name == \"3\"):\n",
    "        N,n_row,n_col,data=read_asc_data('dataSets/line600.txt')\n",
    "\n",
    "\n",
    "    if(name != \"1\"):\n",
    "        \n",
    "        print('find %d images of %d X %d pixels' % (N,n_row,n_col))\n",
    "        \n",
    "        #Faz plot do dataset\n",
    "        plot_data(10,10,n_row,n_col,data)\n",
    "        \n",
    "        Nt=int(N*0.6);\n",
    "        Nval=int(N*0.2);\n",
    "        I=n_row*n_col; \n",
    "        \n",
    "        \n",
    "        #split training vs test sets\n",
    "\n",
    "        Xt=data[:Nt,:-1]\n",
    "        Yt=data[:Nt,-1]\n",
    "        Xval=data[Nt:Nval+Nt,:-1]\n",
    "        Yval=data[Nt:Nval+Nt,-1]\n",
    "\n",
    "        Yt = Yt.reshape(len(Yt),1)\n",
    "        Yval=Yval.reshape(len(Yval),1)\n",
    "\n",
    "        #replace 0 for -1\n",
    "        np.place(Yt, Yt!=1, [0])\n",
    "        np.place(Yval, Yval!=1, [0])\n",
    "\n",
    "        m = Xt.shape[0]\n",
    "\n",
    "        Xt = Xt.T\n",
    "        Yt = Yt.T\n",
    "        Xval=Xval.T\n",
    "        Yval=Yval.T\n",
    "\n",
    "        #test set\n",
    "        Ne=N-Nt;\n",
    "        Xe=data[Nt:N,:-1];Ye=data[Nt:N,-1];\n",
    "        Ye = np.where(Ye == -1, 0,1)\n",
    "        #plot_tagged_data(10,10,n_row,n_col,Xe,Ye,parameters)\n",
    "\n",
    "\n",
    "        print(\"\\nInformation about the dataset : \")\n",
    "        print(\"We have \" + str(np.sum(Yt)) + \" images with label = 1 and \" + str(Yt.shape[1]-np.sum(Yt)) + \" images with label = 0\\n\")\n",
    "        \n",
    "        return Xt,Yt,Xval,Yval,Xe,Ye\n",
    "    \n",
    "    return Xt,Yt,_,_,_,_\n",
    "\n",
    "#Xt,Yt,Xval,Yval,Xe,Ye = import_dataset(\"1\")#xor\n",
    "Xt,Yt,Xval,Yval,Xe,Ye = import_dataset(\"2\")#circulos\n",
    "#Xt,Yt,Xval,Yval,Xe,Ye = import_dataset(\"3\")#retangulos"
   ]
  },
  {
   "cell_type": "markdown",
   "metadata": {},
   "source": [
    "## O Xor não funciona com o model, fazer um à parte"
   ]
  },
  {
   "cell_type": "code",
   "execution_count": 101,
   "metadata": {},
   "outputs": [
    {
     "name": "stdout",
     "output_type": "stream",
     "text": [
      "Cost of iteration 0 = 0.6931681603179666 and accuracy train of = 0.5244444444444445\n",
      "Cost of validation iteration 0 = 0.2310547868314211 and accuracy val of = 0.5533333333333333\n",
      "Cost of iteration 100 = 0.693071253968241 and accuracy train of = 0.5066666666666667\n",
      "Cost of validation iteration 100 = 0.2309991755101629 and accuracy val of = 0.52\n",
      "Cost of iteration 200 = 0.6929749677906503 and accuracy train of = 0.5066666666666667\n",
      "Cost of validation iteration 200 = 0.23095212103388185 and accuracy val of = 0.52\n",
      "Cost of iteration 300 = 0.6928436768137533 and accuracy train of = 0.5066666666666667\n",
      "Cost of validation iteration 300 = 0.2308961617586816 and accuracy val of = 0.52\n",
      "Cost of iteration 400 = 0.6926359869145929 and accuracy train of = 0.5066666666666667\n",
      "Cost of validation iteration 400 = 0.23081813180110483 and accuracy val of = 0.52\n",
      "Cost of iteration 500 = 0.6922868808473105 and accuracy train of = 0.5066666666666667\n",
      "Cost of validation iteration 500 = 0.2306991370354907 and accuracy val of = 0.52\n",
      "Cost of iteration 600 = 0.6916898152085652 and accuracy train of = 0.5066666666666667\n",
      "Cost of validation iteration 600 = 0.2305007753061225 and accuracy val of = 0.52\n",
      "Cost of iteration 700 = 0.6906842282905873 and accuracy train of = 0.5633333333333334\n",
      "Cost of validation iteration 700 = 0.23017434122291963 and accuracy val of = 0.5833333333333334\n",
      "Cost of iteration 800 = 0.689053798138763 and accuracy train of = 0.7733333333333333\n",
      "Cost of validation iteration 800 = 0.22964838610393334 and accuracy val of = 0.7866666666666666\n",
      "Cost of iteration 900 = 0.6865605405426363 and accuracy train of = 0.8888888888888888\n",
      "Cost of validation iteration 900 = 0.22884349772879356 and accuracy val of = 0.8966666666666666\n",
      "Cost of iteration 1000 = 0.6829951727319581 and accuracy train of = 0.7911111111111111\n",
      "Cost of validation iteration 1000 = 0.22769741739527927 and accuracy val of = 0.7833333333333333\n",
      "Cost of iteration 1100 = 0.678262148312401 and accuracy train of = 0.7422222222222222\n",
      "Cost of validation iteration 1100 = 0.22617767146955212 and accuracy val of = 0.7266666666666667\n",
      "Cost of iteration 1200 = 0.672364874500897 and accuracy train of = 0.6944444444444444\n",
      "Cost of validation iteration 1200 = 0.2242843563277294 and accuracy val of = 0.67\n",
      "Cost of iteration 1300 = 0.665279200361364 and accuracy train of = 0.6666666666666666\n",
      "Cost of validation iteration 1300 = 0.22201097743760612 and accuracy val of = 0.65\n",
      "Cost of iteration 1400 = 0.6569081175192819 and accuracy train of = 0.6666666666666666\n",
      "Cost of validation iteration 1400 = 0.2193260809429987 and accuracy val of = 0.65\n",
      "Cost of iteration 1500 = 0.6470642320212735 and accuracy train of = 0.7355555555555555\n",
      "Cost of validation iteration 1500 = 0.2161638484278323 and accuracy val of = 0.7033333333333334\n",
      "Cost of iteration 1600 = 0.6354295241415348 and accuracy train of = 0.7788888888888889\n",
      "Cost of validation iteration 1600 = 0.21241855070856325 and accuracy val of = 0.7633333333333333\n",
      "Cost of iteration 1700 = 0.6216280886071412 and accuracy train of = 0.8166666666666667\n",
      "Cost of validation iteration 1700 = 0.2079803430479657 and accuracy val of = 0.8133333333333334\n",
      "Cost of iteration 1800 = 0.605247224555881 and accuracy train of = 0.9\n",
      "Cost of validation iteration 1800 = 0.20271069029321495 and accuracy val of = 0.9066666666666666\n",
      "Cost of iteration 1900 = 0.5858891338701849 and accuracy train of = 0.9477777777777778\n",
      "Cost of validation iteration 1900 = 0.19648454814929425 and accuracy val of = 0.95\n",
      "Cost of iteration 2000 = 0.5632566354276461 and accuracy train of = 0.9666666666666667\n",
      "Cost of validation iteration 2000 = 0.1892012548376253 and accuracy val of = 0.9633333333333334\n",
      "Cost of iteration 2100 = 0.5371871121654286 and accuracy train of = 0.9733333333333334\n",
      "Cost of validation iteration 2100 = 0.1807872076845676 and accuracy val of = 0.97\n",
      "Cost of iteration 2200 = 0.507825118274488 and accuracy train of = 0.9911111111111112\n",
      "Cost of validation iteration 2200 = 0.17128899170587764 and accuracy val of = 0.9866666666666667\n",
      "Cost of iteration 2300 = 0.4755883241902161 and accuracy train of = 1.0\n",
      "Cost of validation iteration 2300 = 0.16084086413490195 and accuracy val of = 1.0\n"
     ]
    },
    {
     "data": {
      "image/png": "[encoded data removed]",
      "text/plain": [
       "<Figure size 1080x360 with 2 Axes>"
      ]
     },
     "metadata": {
      "needs_background": "light"
     },
     "output_type": "display_data"
    }
   ],
   "source": [
    "hidden_nodes= 3\n",
    "epochs = 14000\n",
    "cache,parameters,times,acc_train,acc_val,iterations = model(hidden_nodes,epochs,0.01,\"tanh\",len(Xt),True)"
   ]
  },
  {
   "cell_type": "code",
   "execution_count": 52,
   "metadata": {},
   "outputs": [],
   "source": [
    "#funções de ativação disponíveis por agora\n",
    "# * Relu\n",
    "# * Tanh\n",
    "# * Sigmoid\n",
    "# * Leaky_Relu\n",
    "# * Swish\n",
    "\n",
    "def activation_time(hidden_nodes):\n",
    "    \n",
    "    activations_time = []\n",
    "    accuracys = []\n",
    "    iterations = []\n",
    "    \n",
    "    activations = [\"swish\",\"relu\",\"sigmoid\",\"leaky_relu\",\"tanh\"]\n",
    "    \n",
    "    for activation in activations:\n",
    "        \n",
    "        cache,parameters, times, acc_train, acc_val, iters = model(hidden_nodes,14000,0.01,activation,32,False)\n",
    "    \n",
    "        activations_time.append(np.mean(times))\n",
    "        accuracys.append([acc_train,acc_val])\n",
    "    \n",
    "        iterations.append(iters)\n",
    "    \n",
    "    return activations_time,accuracys,iterations, activations\n",
    "\n",
    "#fazemos com dois extremos, um muito baixo, 3, um médio, 40 e outro extremo de 100\n",
    "activations_time_1, accuracy1, iterations1, activations = activation_time(3)\n",
    "activations_time_2, accuracy2, iterations2, activations = activation_time(40)\n",
    "activations_time_3, accuracy3, iterations3, activations = activation_time(100)"
   ]
  },
  {
   "cell_type": "code",
   "execution_count": 67,
   "metadata": {},
   "outputs": [
    {
     "name": "stdout",
     "output_type": "stream",
     "text": [
      "Activations = ['swish', 'relu', 'sigmoid', 'leaky_relu', 'tanh']\n"
     ]
    },
    {
     "data": {
      "text/plain": [
       "Text(0.5, 1.0, 'Número de iterações relativas a X neurónios até 100% accuracy')"
      ]
     },
     "execution_count": 67,
     "metadata": {},
     "output_type": "execute_result"
    },
    {
     "data": {
      "image/png": "[encoded data removed]",
      "text/plain": [
       "<Figure size 432x288 with 1 Axes>"
      ]
     },
     "metadata": {
      "needs_background": "light"
     },
     "output_type": "display_data"
    },
    {
     "data": {
      "image/png": "[encoded data removed]",
      "text/plain": [
       "<Figure size 432x288 with 1 Axes>"
      ]
     },
     "metadata": {
      "needs_background": "light"
     },
     "output_type": "display_data"
    }
   ],
   "source": [
    "import numpy as np\n",
    "import matplotlib.pyplot as plt\n",
    "import pandas as pd\n",
    "\n",
    "print(\"Activations = \" + str(activations))\n",
    "\n",
    "X = activations\n",
    "A1 = activations_time_1\n",
    "A2 = activations_time_2\n",
    "A3 = activations_time_3\n",
    "\n",
    "\n",
    "I1 = iterations1\n",
    "I2 = iterations2\n",
    "I3 = iterations3\n",
    "\n",
    "\n",
    "df1 = pd.DataFrame(np.c_[A1,A2,A3], index = X)\n",
    "ax = df1.plot(kind='bar')\n",
    "ax.legend([\"3\", \"40\",\"100\"])\n",
    "ax.set_title(\"Tempo médio de ativação por epoch relativa a X neurónios\")\n",
    "\n",
    "df2 = pd.DataFrame(np.c_[I1,I2,I3], index = X)\n",
    "ax = df2.plot(kind='bar')\n",
    "ax.legend([\"3\", \"40\",\"100\"])\n",
    "ax.set_title(\"Número de iterações relativas a X neurónios até 100% accuracy\")\n",
    "\n",
    "\n"
   ]
  },
  {
   "cell_type": "code",
   "execution_count": 68,
   "metadata": {
    "scrolled": false
   },
   "outputs": [
    {
     "name": "stdout",
     "output_type": "stream",
     "text": [
      "(3, 144)\n",
      "(1, 3)\n",
      "***** ***** First Layer ***** *****\n"
     ]
    },
    {
     "data": {
      "image/png": "[encoded data removed]",
      "text/plain": [
       "<Figure size 720x720 with 3 Axes>"
      ]
     },
     "metadata": {
      "needs_background": "light"
     },
     "output_type": "display_data"
    },
    {
     "name": "stdout",
     "output_type": "stream",
     "text": [
      "***** ***** *****  *****\n",
      "[[-0.67031556 -0.11869478  1.10426245]]\n",
      "\n",
      "\n",
      "***** ***** Second Layer ***** *****\n"
     ]
    },
    {
     "data": {
      "image/png": "[encoded data removed]",
      "text/plain": [
       "<Figure size 432x288 with 1 Axes>"
      ]
     },
     "metadata": {
      "needs_background": "light"
     },
     "output_type": "display_data"
    },
    {
     "name": "stdout",
     "output_type": "stream",
     "text": [
      "***** ***** *****  *****\n"
     ]
    }
   ],
   "source": [
    "#caso os pesos sejam maiores que 0.5 digo que é 1 caso contrário 0\n",
    "def plot_weights(parameters,img_size):\n",
    "    w1 = parameters[\"w1\"]\n",
    "    w2 = parameters[\"w2\"]\n",
    "    \n",
    "    print(w1.shape)\n",
    "    print(w2.shape)\n",
    "    \n",
    "    img = w1.reshape(hidden_nodes,img_size,img_size)\n",
    "    \n",
    "    plt.ion()\n",
    "    plt.figure(figsize=(10, 10))\n",
    "    \n",
    "    print(\"***** ***** First Layer ***** *****\")\n",
    "    for i in range(hidden_nodes):\n",
    "        ax = plt.subplot(1, hidden_nodes, i + 1)\n",
    "        plt.pcolormesh(img[i], edgecolors='k', linewidth=2)\n",
    "        ax = plt.gca()\n",
    "        ax.set_aspect('equal')         \n",
    "    \n",
    "        \n",
    "    plt.show(block=True)\n",
    "    print('***** ***** *****  *****')\n",
    "\n",
    "    print(w2)\n",
    "    print(\"\\n\\n***** ***** Second Layer ***** *****\")\n",
    "    \n",
    "    plt.ion()\n",
    "    plt.pcolormesh(w2, edgecolors='k', linewidth=2)\n",
    "    ax = plt.gca()\n",
    "    ax.set_aspect('equal')         \n",
    "    plt.show(block=True)\n",
    "    plt.pause(0.001)\n",
    "    print('***** ***** *****  *****')    \n",
    "\n",
    "plot_weights(parameters,n_row)"
   ]
  },
  {
   "cell_type": "code",
   "execution_count": 21,
   "metadata": {},
   "outputs": [
    {
     "name": "stdout",
     "output_type": "stream",
     "text": [
      "(3, 1)\n",
      "This is the Z for the = 0.0 output\n",
      "***** ***** First Layer ***** *****\n"
     ]
    },
    {
     "data": {
      "image/png": "[encoded data removed]",
      "text/plain": [
       "<Figure size 360x360 with 1 Axes>"
      ]
     },
     "metadata": {
      "needs_background": "light"
     },
     "output_type": "display_data"
    },
    {
     "name": "stdout",
     "output_type": "stream",
     "text": [
      "***** ***** *****  *****\n",
      "\n",
      "\n",
      "***** ***** Second Layer ***** *****\n"
     ]
    },
    {
     "data": {
      "image/png": "[encoded data removed]",
      "text/plain": [
       "<Figure size 144x216 with 1 Axes>"
      ]
     },
     "metadata": {
      "needs_background": "light"
     },
     "output_type": "display_data"
    },
    {
     "name": "stdout",
     "output_type": "stream",
     "text": [
      "***** ***** *****  *****\n"
     ]
    }
   ],
   "source": [
    "def plot_Z_per_input(input_image,parameters,output):\n",
    "    \n",
    "    A2, cache = feed_forward(input_image,parameters,\"tanh\");\n",
    "    \n",
    "    Z1 = cache[\"Z1\"]\n",
    "    Z2 = cache[\"Z2\"]\n",
    "    A1 = cache[\"A1\"]\n",
    "    A2 = cache[\"A2\"]\n",
    "    \n",
    "    print(Z1.shape)\n",
    "    \n",
    "    plt.ion()\n",
    "    plt.figure(figsize=(5, 5))\n",
    "    \n",
    "    print(\"This is the Z for the = \" + str(output) + \" output\")\n",
    "    \n",
    "    print(\"***** ***** First Layer ***** *****\")\n",
    "    \n",
    "    plt.ion()\n",
    "    plt.pcolormesh(Z1.T, edgecolors='k', linewidth=2)\n",
    "    ax = plt.gca()\n",
    "    ax.set_aspect('equal')         \n",
    "    plt.show(block=True)\n",
    "    plt.pause(0.001)\n",
    "    \n",
    "    print('***** ***** *****  *****')\n",
    "    \n",
    "    plt.figure(figsize=(2, 3))\n",
    "    print(\"\\n\\n***** ***** Second Layer ***** *****\")\n",
    "    \n",
    "    plt.ion()\n",
    "    plt.pcolormesh(Z2, edgecolors='k', linewidth=2)\n",
    "    ax = plt.gca()\n",
    "    ax.set_aspect('equal')         \n",
    "    plt.show(block=True)\n",
    "    plt.pause(0.001)\n",
    "    print('***** ***** *****  *****')    \n",
    "\n",
    "x = Xt[:,5].reshape(Xt[:,0].shape[0],1)\n",
    "y = Yt[:,5][0]\n",
    "\n",
    "plot_Z_per_input(x,parameters,y)\n"
   ]
  },
  {
   "cell_type": "code",
   "execution_count": 16,
   "metadata": {},
   "outputs": [
    {
     "data": {
      "text/plain": [
       "array([0.])"
      ]
     },
     "execution_count": 16,
     "metadata": {},
     "output_type": "execute_result"
    }
   ],
   "source": [
    "Yt[:,5]"
   ]
  },
  {
   "cell_type": "code",
   "execution_count": 168,
   "metadata": {},
   "outputs": [
    {
     "name": "stdout",
     "output_type": "stream",
     "text": [
      "----------  Confusion matrix on train set with 900 images ------------\n"
     ]
    },
    {
     "data": {
      "image/png": "[encoded data removed]",
      "text/plain": [
       "<Figure size 432x216 with 2 Axes>"
      ]
     },
     "metadata": {
      "needs_background": "light"
     },
     "output_type": "display_data"
    },
    {
     "name": "stdout",
     "output_type": "stream",
     "text": [
      "----------  Confusion matrix on test set with 300 ------------\n"
     ]
    },
    {
     "data": {
      "image/png": "[encoded data removed]",
      "text/plain": [
       "<Figure size 432x216 with 2 Axes>"
      ]
     },
     "metadata": {
      "needs_background": "light"
     },
     "output_type": "display_data"
    }
   ],
   "source": [
    "from string import ascii_uppercase\n",
    "from pandas import DataFrame\n",
    "import numpy as np\n",
    "import seaborn as sn\n",
    "from sklearn.metrics import confusion_matrix\n",
    "\n",
    "def my_confusion_matrix(parameters):\n",
    "    \n",
    "    Ne=N-Nt;\n",
    "    Xe=data[Nt+Nval:N,:-1];Ye=data[Nt+Nval:N,-1]; \n",
    "    Ye = np.where(Ye == -1, 0,1)\n",
    "    Xe = Xe.T; Ye = Ye.T #test set\n",
    "    \n",
    "    #Xt,Yt -> train set\n",
    "    \n",
    "    predictions_train_set , _ = feed_forward(Xt,parameters,activation_function)\n",
    "    predictions_test_set , _ = feed_forward(Xe,parameters,activation_function)\n",
    "    predictions_train_set = np.where(predictions_train_set < 0.5 , 0 , 1) \n",
    "    predictions_test_set = np.where(predictions_test_set < 0.5 , 0 , 1) \n",
    "    \n",
    "    labels = [0,1]\n",
    "    columns = ['True','False']\n",
    "    \n",
    "    print(\"----------  Confusion matrix on train set with \" + str(Yt.shape[1]) + \" images ------------\")\n",
    "    \n",
    "    #data\n",
    "    y_test = Yt.T\n",
    "    predic = predictions_train_set.T\n",
    "\n",
    "    #confusion matrix\n",
    "    confm = confusion_matrix(y_test, predic,labels)\n",
    "    #confusion matrix to datafram\n",
    "    df_cm = DataFrame(confm, index=columns, columns=columns)\n",
    "    df_cm.plot(figsize=(6,3));\n",
    "    \n",
    "    #plot\n",
    "    ax = sn.heatmap(df_cm, annot=True)\n",
    "    plt.show()\n",
    "    #same thing on test set\n",
    "    print(\"----------  Confusion matrix on test set with \" + str(Ye.shape[0]) + \" ------------\")\n",
    "    y_test = Ye.T\n",
    "    predic = predictions_test_set.T\n",
    "    \n",
    "    confm = confusion_matrix(y_test, predic)\n",
    "    df_cm = DataFrame(confm, index=columns, columns=columns)\n",
    "    df_cm.plot(figsize=(6,3));\n",
    "    ax = sn.heatmap(df_cm, annot=True)\n",
    "    \n",
    "my_confusion_matrix(parameters)"
   ]
  },
  {
   "cell_type": "code",
   "execution_count": null,
   "metadata": {},
   "outputs": [],
   "source": []
  }
 ],
 "metadata": {
  "kernelspec": {
   "display_name": "Python 3",
   "language": "python",
   "name": "python3"
  },
  "language_info": {
   "codemirror_mode": {
    "name": "ipython",
    "version": 3
   },
   "file_extension": ".py",
   "mimetype": "text/x-python",
   "name": "python",
   "nbconvert_exporter": "python",
   "pygments_lexer": "ipython3",
   "version": "3.7.3"
  }
 },
 "nbformat": 4,
 "nbformat_minor": 4
}
