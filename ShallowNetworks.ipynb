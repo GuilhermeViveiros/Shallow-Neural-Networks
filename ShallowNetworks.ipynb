{
 "cells": [
  {
   "cell_type": "markdown",
   "metadata": {},
   "source": [
    "> Pacotes necessários"
   ]
  },
  {
   "cell_type": "code",
   "execution_count": 138,
   "metadata": {},
   "outputs": [],
   "source": [
    "import numpy as np\n",
    "import os\n",
    "\n",
    "import scipy\n",
    "from PIL import Image\n",
    "import matplotlib.pylab as plt\n",
    "import matplotlib.image as mpimg\n",
    "from matplotlib.pyplot import figure\n",
    "import importlib\n",
    "\n",
    "from time import monotonic as timer"
   ]
  },
  {
   "cell_type": "markdown",
   "metadata": {},
   "source": [
    "> Esta célula trata dos plots dos datasets com e sem preditions e a função que trata de fazer o parse do dataset"
   ]
  },
  {
   "cell_type": "code",
   "execution_count": 139,
   "metadata": {},
   "outputs": [],
   "source": [
    "def plot_tagged_data(row,col,n_row,n_col,X,Y,parameters): \n",
    "    fig=plt.figure(figsize=(row,col))\n",
    "    \n",
    "    l,cache = feed_forward(X.T,parameters,activation_function)\n",
    "    for n in range(row*col):\n",
    "        img=np.reshape(X[n],(n_row,n_col))\n",
    "        fig.add_subplot(row, col, n+1)\n",
    "           \n",
    "        if(l[0][n]>0.5):\n",
    "    \n",
    "            plt.imshow(img,interpolation='none',cmap='RdPu')\n",
    "        else:\n",
    "            plt.imshow(img,interpolation='none',cmap='cool')               \n",
    "    plt.show()\n",
    "    \n",
    "def read_asc_data(filename):    \n",
    "    f= open(filename,'r') \n",
    "    tmp_str=f.readline()\n",
    "    tmp_arr=tmp_str[:-1].split(' ')\n",
    "    N=int(tmp_arr[0]);n_row=int(tmp_arr[1]);n_col=int(tmp_arr[2])\n",
    "    data=np.zeros([N,n_row*n_col+1])\n",
    "    for n in range(N):\n",
    "        tmp_str=f.readline()\n",
    "        tmp_arr=tmp_str[:-1].split(' ')       \n",
    "        for i in range(n_row*n_col+1):\n",
    "            data[n][i]=int(tmp_arr[i])\n",
    "    f.close() \n",
    "    return N,n_row,n_col,data"
   ]
  },
  {
   "cell_type": "markdown",
   "metadata": {},
   "source": [
    "> Esta célula corre todas as funções de ativação e as suas derivadas"
   ]
  },
  {
   "cell_type": "code",
   "execution_count": 140,
   "metadata": {},
   "outputs": [],
   "source": [
    "# sigmoid function\n",
    "def sigmoid(z):\n",
    "    s = 1 / (1 + np.exp(-z));\n",
    "    return s;\n",
    "\n",
    "# relu function\n",
    "def relu(z):\n",
    "    return np.where( z <= 0, 0 , z)\n",
    "\n",
    "# swish function\n",
    "def swish(z):\n",
    "    s = z / (1 + np.exp(-z));\n",
    "    return s;\n",
    "\n",
    "#derivada swish\n",
    "def der_swish(z):\n",
    "    return (sigmoid(z)+z*sigmoid(1-sigmoid(z)))\n",
    "\n",
    "\n",
    "#derivada sigmoid\n",
    "def der_sigmoid(z):\n",
    "    return sigmoid(1-sigmoid(z))\n",
    "\n",
    "#derivada tangente hiperbólica\n",
    "def der_tanh(z):\n",
    "    return (1-np.power(z,2))\n",
    "\n",
    "#derivada relu\n",
    "def der_relu(z):\n",
    "    z[z<=0] = 0\n",
    "    z[z>0] = 1\n",
    "    return z\n",
    "\n",
    "#leaky_relu function\n",
    "def leaky_relu(z):\n",
    "    return np.where( z <= 0, 0.01*z, z)\n",
    "\n",
    "#derivada leaky_relu\n",
    "def der_leaky_relu(z):\n",
    "    z[z<=0]=0.01\n",
    "    z[z>0]=1\n",
    "    return z\n",
    "\n",
    "#normalization\n",
    "def normalization(ew):\n",
    "    return(ew/np.linalg.norm(ew,2))"
   ]
  },
  {
   "cell_type": "markdown",
   "metadata": {},
   "source": [
    "> Esta célula inicializa os parãmetros de uma rede neuronal, neste caso temos apenas dois layers\n",
    "\n",
    "> Input -> Hidden Layer -> Output\n"
   ]
  },
  {
   "cell_type": "code",
   "execution_count": 141,
   "metadata": {},
   "outputs": [],
   "source": [
    "# size of the fst and the last layer, and the hidden layer\n",
    "# assuming 1 hidden layer\n",
    "def inicializar_parameters(n_x,n_h,n_y):\n",
    "    \n",
    "    #w1 = np.zeros((n_h,n_x))\n",
    "    #w1 = normalization(w1)\n",
    "    w1 = np.random.randn(n_h,n_x) * 0.01;\n",
    "    b1 = np.zeros((n_h,1));\n",
    "    \n",
    "    #w2 = np.zeros((n_y,n_h))\n",
    "    #w2 = normalization(w2)\n",
    "    w2 = np.random.randn(n_y,n_h) * 0.01;\n",
    "    b2 = np.zeros((n_y,1));\n",
    "\n",
    "    parameters = {\n",
    "        \"w1\" : w1,\n",
    "        \"b1\" : b1,\n",
    "        \"w2\" : w2,\n",
    "        \"b2\" : b2\n",
    "    }\n",
    "\n",
    "    return parameters;\n"
   ]
  },
  {
   "cell_type": "markdown",
   "metadata": {},
   "source": [
    "> Esta célula faz o feed forward da rede, neste caso temos que especificar as funções de ativação\n",
    "\n",
    "> Input -> Função linear(z1) -> Função de Ativação -> Função linear(Z2) -> Função de Ativação(Sigmoid) (output)"
   ]
  },
  {
   "cell_type": "code",
   "execution_count": 142,
   "metadata": {},
   "outputs": [],
   "source": [
    "# i use the non-linear activation function called than, in the output layer i use sigmoid, cause this is a binary classification problem.\n",
    "def feed_forward(X,parameters,activation):\n",
    "    \n",
    "    \n",
    "    w1 = parameters[\"w1\"];\n",
    "    b1 = parameters[\"b1\"];\n",
    "    w2 = parameters[\"w2\"];\n",
    "    b2 = parameters[\"b2\"];\n",
    "\n",
    "    #feed_foward\n",
    "    Z1 = np.dot(w1,X) + b1; \n",
    "\n",
    "    if(activation == \"tanh\"):\n",
    "        A1 = np.tanh(Z1);\n",
    "    elif(activation == \"relu\"):\n",
    "        A1 = relu(Z1);\n",
    "    elif(activation == \"sigmoid\"):\n",
    "        A1 = sigmoid(Z1);\n",
    "    elif(activation == \"leaky_relu\"):\n",
    "        A1 = leaky_relu(Z1);\n",
    "    elif(activation == \"swish\"):\n",
    "        A1 = swish(Z1);\n",
    "        \n",
    "    Z2 = np.dot(w2,A1) + b2;\n",
    "    A2 = sigmoid(Z2);\n",
    "\n",
    "    cache = {\n",
    "        \"Z1\" : Z1,\n",
    "        \"A1\" : A1,\n",
    "        \"Z2\" : Z2,\n",
    "        \"A2\" : A2\n",
    "    }\n",
    "\n",
    "    return A2, cache;"
   ]
  },
  {
   "cell_type": "markdown",
   "metadata": {},
   "source": [
    "> Função custo"
   ]
  },
  {
   "cell_type": "code",
   "execution_count": 143,
   "metadata": {},
   "outputs": [],
   "source": [
    "def calculate_cost(A2,Yt):\n",
    "    #para não estar a fazer log de 0 acrescenta-se um eta\n",
    "    e = 1e-8\n",
    "    Cost = - np.sum(np.dot(Yt, np.log(A2+e).T) + np.dot(1 - Yt, np.log(1 - A2+e).T)) /m;  #cost function\n",
    "    return Cost;\n"
   ]
  },
  {
   "cell_type": "markdown",
   "metadata": {},
   "source": [
    "> Back propagation da rede, preciso as funções de ativação"
   ]
  },
  {
   "cell_type": "code",
   "execution_count": 144,
   "metadata": {},
   "outputs": [],
   "source": [
    "def back_propagation(X,Y,cache,parameters,activation):\n",
    "\n",
    "    A1 = cache[\"A1\"];\n",
    "    w1 = parameters[\"w1\"];\n",
    "    w2 = parameters[\"w2\"];\n",
    "    A2 = cache[\"A2\"];\n",
    "    \n",
    "    dZ2 = A2 - Y;\n",
    "    dW2 = np.dot(dZ2,A1.T)/m;\n",
    "    dB2 = np.sum(dZ2, axis=1, keepdims = True)/m;\n",
    "    \n",
    "    if(activation == \"relu\"):\n",
    "        dZ1 = np.multiply(np.dot(w2.T,dZ2), der_relu(A1));\n",
    "    if(activation == \"tanh\"):\n",
    "        dZ1 = np.multiply(np.dot(w2.T,dZ2), 1 - np.power(A1, 2));\n",
    "    if(activation == \"sigmoid\"):\n",
    "        dZ1 = np.multiply(np.dot(w2.T,dZ2),der_sigmoid(A1));\n",
    "    if(activation == \"leaky_relu\"):\n",
    "        dZ1 = np.multiply(np.dot(w2.T,dZ2), der_leaky_relu(A1));\n",
    "    if(activation == \"swish\"):\n",
    "        dZ1 = np.multiply(np.dot(w2.T,dZ2), der_swish(A1));\n",
    "        \n",
    "    dW1 = np.dot(dZ1,X.T)/m;\n",
    "    dB1 = np.sum(dZ1,axis = 1, keepdims = True)/m;\n",
    "\n",
    "    grads = {\n",
    "        \"dW2\" : dW2,\n",
    "        \"dB2\" : dB2,\n",
    "        \"dW1\" : dW1,\n",
    "        \"dB1\" : dB1\n",
    "    }\n",
    "\n",
    "    return grads;\n"
   ]
  },
  {
   "cell_type": "markdown",
   "metadata": {},
   "source": [
    "> Otimização de parâmetros, feito após ter corrido o back propagation, e obtido os respetivos gradientes"
   ]
  },
  {
   "cell_type": "code",
   "execution_count": 145,
   "metadata": {},
   "outputs": [],
   "source": [
    "def otimize_parameters(parameters,grads,learning_rate):\n",
    "    \n",
    "    w1 = parameters[\"w1\"];\n",
    "    w2 = parameters[\"w2\"];\n",
    "    b1 = parameters[\"b1\"];\n",
    "    b2 = parameters[\"b2\"];\n",
    "\n",
    "    \n",
    "    dW2 = grads[\"dW2\"];\n",
    "    dB2 = grads[\"dB2\"];\n",
    "    dW1 = grads[\"dW1\"];\n",
    "    dB1 = grads[\"dB1\"];\n",
    "\n",
    "    #uptade de parameters\n",
    "    w2 = w2 - learning_rate * dW2;\n",
    "    w1 = w1 - learning_rate * dW1;\n",
    "    b1 = b1 - learning_rate * dB1;\n",
    "    b2 = b2 - learning_rate * dB2;\n",
    "\n",
    "    parameters = {\n",
    "        \"w1\" : w1,\n",
    "        \"b1\" : b1,\n",
    "        \"w2\" : w2,\n",
    "        \"b2\" : b2\n",
    "    }\n",
    "\n",
    "    return parameters;"
   ]
  },
  {
   "cell_type": "markdown",
   "metadata": {},
   "source": [
    "> Esta célula reparte o dataset em vários batches"
   ]
  },
  {
   "cell_type": "code",
   "execution_count": 146,
   "metadata": {},
   "outputs": [],
   "source": [
    "def iterate_minibatches(inputs, targets, batchsize, shuffle=False):\n",
    "    inputs = inputs.T\n",
    "    targets = targets.T\n",
    "    assert inputs.shape[0] == targets.shape[0]\n",
    "    if shuffle:\n",
    "        indices = np.arange(inputs.shape[0])\n",
    "        np.random.shuffle(indices)\n",
    "    for start_idx in range(0, inputs.shape[0] - batchsize + 1, batchsize):\n",
    "        if shuffle:\n",
    "            excerpt = indices[start_idx:start_idx + batchsize]\n",
    "        else:\n",
    "            excerpt = slice(start_idx, start_idx + batchsize)\n",
    "        yield inputs[excerpt], targets[excerpt]"
   ]
  },
  {
   "cell_type": "markdown",
   "metadata": {},
   "source": [
    "> Modelo"
   ]
  },
  {
   "cell_type": "code",
   "execution_count": 161,
   "metadata": {},
   "outputs": [
    {
     "data": {
      "text/plain": [
       "(144, 900)"
      ]
     },
     "execution_count": 161,
     "metadata": {},
     "output_type": "execute_result"
    }
   ],
   "source": [
    "Xt.shape"
   ]
  },
  {
   "cell_type": "code",
   "execution_count": 180,
   "metadata": {},
   "outputs": [],
   "source": [
    "def model(n_h,epochs,learning_rate,activation,batch_size,show_info,shuffle=True):\n",
    "\n",
    "    np.random.seed(3) # we set up a seed so that your output matches ours although the initialization is random.\n",
    "    parameters = inicializar_parameters(Xt.shape[0],n_h,Yt.shape[0]);\n",
    "    \n",
    "    #previous_cost vai ser similar a um eraly stopping neste problema, qd o custo não diminuir em 100 epochs para de treinar\n",
    "    previous_cost = 1e3\n",
    "    previous_val_accuracy = 1\n",
    "    cost_arr=[]\n",
    "    costval_arr=[]\n",
    "    acc_train = []\n",
    "    acc_val = []\n",
    "    \n",
    "    times = []#array with the times of each epoch\n",
    "    \n",
    "    for i in range(0,epochs):\n",
    "        \n",
    "        begin = timer()\n",
    "        \n",
    "        \n",
    "        for batch in iterate_minibatches(Xt, Yt, batch_size, shuffle=True):\n",
    "            \n",
    "            x_batch, y_batch = batch\n",
    "            \n",
    "        \n",
    "            A2, cache = feed_forward(x_batch.T,parameters,activation);\n",
    "            grads = back_propagation(x_batch.T,y_batch.T,cache,parameters,activation);\n",
    "            parameters = otimize_parameters(parameters,grads,learning_rate);            \n",
    "        \n",
    "            #calculate the time in seconds\n",
    "        end = timer()\n",
    "        time = end-begin\n",
    "        times.append(time)\n",
    "        \n",
    "        \n",
    "        if(i%100 == 0):\n",
    "            \n",
    "            #validation cost calcultated here\n",
    "            A2_train, _ = feed_forward(Xt,parameters,activation);\n",
    "            A2_val, _ = feed_forward(Xval,parameters,activation);\n",
    "            \n",
    "            A2_val_plot = np.where(A2_val >= 0.5, 1 , 0)\n",
    "            A2_plot = np.where(A2_train >= 0.5, 1 , 0)\n",
    "            \n",
    "            accuracy_train = np.sum(np.equal(A2_plot,Yt))/(A2_train.shape[1])\n",
    "            accuracy_val = np.sum(np.equal(A2_val_plot,Yval))/(A2_val.shape[1])\n",
    "            \n",
    "            acc_train.append(accuracy_train)\n",
    "            acc_val.append(accuracy_val)\n",
    "            \n",
    "            \n",
    "            cost = calculate_cost(A2_train,Yt)\n",
    "            if(show_info == True):\n",
    "                print(\"Cost of iteration \" + str(i) + \" = \" + str(cost) + \" and accuracy train of = \" + str(accuracy_train));\n",
    "            costval = calculate_cost(A2_val,Yval)\n",
    "            if(show_info == True):\n",
    "                print(\"Cost of validation iteration \" + str(i) + \" = \" + str(costval) + \" and accuracy val of = \" + str(accuracy_val));\n",
    "            \n",
    "            #parar se o cost em 100 iterações doir maior ao igual que o de -100 iterações\n",
    "            if(cost >= previous_cost):\n",
    "                break\n",
    "\n",
    "            previous_cost = cost\n",
    "            cost_arr.append(cost)\n",
    "            costval_arr.append(costval)\n",
    "    \n",
    "    if(show_info == True):\n",
    "        figure(figsize=(15, 5))\n",
    "        #primeiros dois números são as shapes,  linha e coluna, 3 index é onde está o gráfico\n",
    "        plt.subplot(1, 2, 1)\n",
    "        plt.plot(cost_arr)\n",
    "        plt.plot(costval_arr)\n",
    "        plt.title('model cost')\n",
    "        plt.ylabel('loss')\n",
    "        plt.xlabel('iteration')\n",
    "        plt.legend(['train', 'validation'], loc='upper left')\n",
    "    \n",
    "\n",
    "        plt.subplot(1, 2, 2)    \n",
    "        plt.plot(acc_train)\n",
    "        plt.plot(acc_val)\n",
    "        plt.title('model accuracy')\n",
    "        plt.ylabel('Accuracy')\n",
    "        plt.xlabel('iteration')\n",
    "        plt.legend(['train', 'validation'], loc='upper left')\n",
    "        plt.show()\n",
    "    \n",
    "    return cache,parameters,times,accuracy_train,accuracy_val"
   ]
  },
  {
   "cell_type": "code",
   "execution_count": 170,
   "metadata": {
    "scrolled": true
   },
   "outputs": [
    {
     "name": "stdout",
     "output_type": "stream",
     "text": [
      "find 1500 images of 12 X 12 pixels\n",
      "\n",
      "Information about the dataset : \n",
      "We have 444.0 images with label = 1 and 456.0 images with label = 0\n",
      "\n",
      "Cost of iteration 0 = 0.6931201346962613 and accuracy train of = 0.5788888888888889\n",
      "Cost of validation iteration 0 = 0.23104376273259994 and accuracy val of = 0.5533333333333333\n",
      "Cost of iteration 100 = 0.6929898814469915 and accuracy train of = 0.5066666666666667\n",
      "Cost of validation iteration 100 = 0.2309782477004938 and accuracy val of = 0.52\n",
      "Cost of iteration 200 = 0.692826487804651 and accuracy train of = 0.5066666666666667\n",
      "Cost of validation iteration 200 = 0.23090777506636292 and accuracy val of = 0.52\n",
      "Cost of iteration 300 = 0.6925732539165614 and accuracy train of = 0.5066666666666667\n",
      "Cost of validation iteration 300 = 0.2308129454312043 and accuracy val of = 0.52\n",
      "Cost of iteration 400 = 0.6921418854947067 and accuracy train of = 0.5066666666666667\n",
      "Cost of validation iteration 400 = 0.23066498822986953 and accuracy val of = 0.52\n",
      "Cost of iteration 500 = 0.6913869912494462 and accuracy train of = 0.5066666666666667\n",
      "Cost of validation iteration 500 = 0.23041616619451974 and accuracy val of = 0.52\n",
      "Cost of iteration 600 = 0.6900779607428305 and accuracy train of = 0.6822222222222222\n",
      "Cost of validation iteration 600 = 0.22999233093311633 and accuracy val of = 0.71\n",
      "Cost of iteration 700 = 0.6878816006972872 and accuracy train of = 0.8422222222222222\n",
      "Cost of validation iteration 700 = 0.22928525481789147 and accuracy val of = 0.8366666666666667\n",
      "Cost of iteration 800 = 0.6843961272110745 and accuracy train of = 0.8355555555555556\n",
      "Cost of validation iteration 800 = 0.2281665844065287 and accuracy val of = 0.8566666666666667\n",
      "Cost of iteration 900 = 0.679283999460138 and accuracy train of = 0.6977777777777778\n",
      "Cost of validation iteration 900 = 0.22652754488076507 and accuracy val of = 0.68\n",
      "Cost of iteration 1000 = 0.6724199443907842 and accuracy train of = 0.6511111111111111\n",
      "Cost of validation iteration 1000 = 0.22432992142594813 and accuracy val of = 0.62\n",
      "Cost of iteration 1100 = 0.6639160273419471 and accuracy train of = 0.6377777777777778\n",
      "Cost of validation iteration 1100 = 0.22160782464073386 and accuracy val of = 0.6066666666666667\n",
      "Cost of iteration 1200 = 0.6539092197551423 and accuracy train of = 0.6377777777777778\n",
      "Cost of validation iteration 1200 = 0.2184024328141324 and accuracy val of = 0.6066666666666667\n",
      "Cost of iteration 1300 = 0.6423401175789685 and accuracy train of = 0.6588888888888889\n",
      "Cost of validation iteration 1300 = 0.21469101269563054 and accuracy val of = 0.62\n",
      "Cost of iteration 1400 = 0.6289351937681241 and accuracy train of = 0.7166666666666667\n",
      "Cost of validation iteration 1400 = 0.21038184491905138 and accuracy val of = 0.6966666666666667\n",
      "Cost of iteration 1500 = 0.6132666636526777 and accuracy train of = 0.7344444444444445\n",
      "Cost of validation iteration 1500 = 0.20533646211841056 and accuracy val of = 0.7133333333333334\n",
      "Cost of iteration 1600 = 0.5948692195339501 and accuracy train of = 0.8344444444444444\n",
      "Cost of validation iteration 1600 = 0.19940262229712974 and accuracy val of = 0.8433333333333334\n",
      "Cost of iteration 1700 = 0.5733131995375796 and accuracy train of = 0.9411111111111111\n",
      "Cost of validation iteration 1700 = 0.19244422616273685 and accuracy val of = 0.9433333333333334\n",
      "Cost of iteration 1800 = 0.5482887927051256 and accuracy train of = 0.9588888888888889\n",
      "Cost of validation iteration 1800 = 0.18435966145233978 and accuracy val of = 0.96\n",
      "Cost of iteration 1900 = 0.5197085204632008 and accuracy train of = 0.9744444444444444\n",
      "Cost of validation iteration 1900 = 0.17511003633558372 and accuracy val of = 0.9733333333333334\n",
      "Cost of iteration 2000 = 0.48778234443853613 and accuracy train of = 0.9955555555555555\n",
      "Cost of validation iteration 2000 = 0.16476210789762763 and accuracy val of = 0.9966666666666667\n",
      "Cost of iteration 2100 = 0.4530980942269641 and accuracy train of = 0.9955555555555555\n",
      "Cost of validation iteration 2100 = 0.1534900592420525 and accuracy val of = 0.9966666666666667\n",
      "Cost of iteration 2200 = 0.41656353379225886 and accuracy train of = 1.0\n",
      "Cost of validation iteration 2200 = 0.14157816380670507 and accuracy val of = 1.0\n",
      "Cost of iteration 2300 = 0.3793321067276352 and accuracy train of = 1.0\n",
      "Cost of validation iteration 2300 = 0.12939281261806043 and accuracy val of = 1.0\n",
      "Cost of iteration 2400 = 0.34260615473557426 and accuracy train of = 1.0\n",
      "Cost of validation iteration 2400 = 0.11731477489308115 and accuracy val of = 1.0\n",
      "Cost of iteration 2500 = 0.3074592825029477 and accuracy train of = 1.0\n",
      "Cost of validation iteration 2500 = 0.10568760652749759 and accuracy val of = 1.0\n",
      "Cost of iteration 2600 = 0.2747136246588358 and accuracy train of = 1.0\n",
      "Cost of validation iteration 2600 = 0.09478966038430994 and accuracy val of = 1.0\n",
      "Cost of iteration 2700 = 0.2448745412067165 and accuracy train of = 1.0\n",
      "Cost of validation iteration 2700 = 0.08480238128221058 and accuracy val of = 1.0\n",
      "Cost of iteration 2800 = 0.21815680802640386 and accuracy train of = 1.0\n",
      "Cost of validation iteration 2800 = 0.07580407287929496 and accuracy val of = 1.0\n",
      "Cost of iteration 2900 = 0.19454535976697906 and accuracy train of = 1.0\n",
      "Cost of validation iteration 2900 = 0.06780864495329213 and accuracy val of = 1.0\n",
      "Cost of iteration 3000 = 0.1738630153747615 and accuracy train of = 1.0\n",
      "Cost of validation iteration 3000 = 0.06076870689947441 and accuracy val of = 1.0\n",
      "Cost of iteration 3100 = 0.15585135497822716 and accuracy train of = 1.0\n",
      "Cost of validation iteration 3100 = 0.05460865342387859 and accuracy val of = 1.0\n",
      "Cost of iteration 3200 = 0.1402083068676276 and accuracy train of = 1.0\n",
      "Cost of validation iteration 3200 = 0.049235631619189466 and accuracy val of = 1.0\n",
      "Cost of iteration 3300 = 0.12663417156433107 and accuracy train of = 1.0\n",
      "Cost of validation iteration 3300 = 0.044554864698162076 and accuracy val of = 1.0\n",
      "Cost of iteration 3400 = 0.1148457106687708 and accuracy train of = 1.0\n",
      "Cost of validation iteration 3400 = 0.04047708100268385 and accuracy val of = 1.0\n",
      "Cost of iteration 3500 = 0.10458773111651033 and accuracy train of = 1.0\n",
      "Cost of validation iteration 3500 = 0.036918835204377734 and accuracy val of = 1.0\n",
      "Cost of iteration 3600 = 0.09563664465089715 and accuracy train of = 1.0\n",
      "Cost of validation iteration 3600 = 0.03380484590880165 and accuracy val of = 1.0\n",
      "Cost of iteration 3700 = 0.08780026754145556 and accuracy train of = 1.0\n",
      "Cost of validation iteration 3700 = 0.031073067269523323 and accuracy val of = 1.0\n",
      "Cost of iteration 3800 = 0.08091347833974669 and accuracy train of = 1.0\n",
      "Cost of validation iteration 3800 = 0.028666749971692482 and accuracy val of = 1.0\n",
      "Cost of iteration 3900 = 0.07483790484498415 and accuracy train of = 1.0\n",
      "Cost of validation iteration 3900 = 0.026539954598166514 and accuracy val of = 1.0\n",
      "Cost of iteration 4000 = 0.06945784252519584 and accuracy train of = 1.0\n",
      "Cost of validation iteration 4000 = 0.024653046519178837 and accuracy val of = 1.0\n",
      "Cost of iteration 4100 = 0.06467361362733391 and accuracy train of = 1.0\n",
      "Cost of validation iteration 4100 = 0.022972770747598473 and accuracy val of = 1.0\n",
      "Cost of iteration 4200 = 0.06040274984153814 and accuracy train of = 1.0\n",
      "Cost of validation iteration 4200 = 0.021471321841106783 and accuracy val of = 1.0\n",
      "Cost of iteration 4300 = 0.056576464856897546 and accuracy train of = 1.0\n",
      "Cost of validation iteration 4300 = 0.020124029829515378 and accuracy val of = 1.0\n",
      "Cost of iteration 4400 = 0.053134358992136366 and accuracy train of = 1.0\n",
      "Cost of validation iteration 4400 = 0.01891053675661615 and accuracy val of = 1.0\n",
      "Cost of iteration 4500 = 0.050027949183937784 and accuracy train of = 1.0\n",
      "Cost of validation iteration 4500 = 0.017814571029926802 and accuracy val of = 1.0\n",
      "Cost of iteration 4600 = 0.047214781018382425 and accuracy train of = 1.0\n",
      "Cost of validation iteration 4600 = 0.01682124290580118 and accuracy val of = 1.0\n",
      "Cost of iteration 4700 = 0.04465837994040255 and accuracy train of = 1.0\n",
      "Cost of validation iteration 4700 = 0.015917585663913537 and accuracy val of = 1.0\n",
      "Cost of iteration 4800 = 0.04232864825781338 and accuracy train of = 1.0\n",
      "Cost of validation iteration 4800 = 0.015093722748153909 and accuracy val of = 1.0\n"
     ]
    },
    {
     "name": "stdout",
     "output_type": "stream",
     "text": [
      "Cost of iteration 4900 = 0.04019887877720276 and accuracy train of = 1.0\n",
      "Cost of validation iteration 4900 = 0.014339918194349618 and accuracy val of = 1.0\n",
      "Cost of iteration 5000 = 0.03824669705247171 and accuracy train of = 1.0\n",
      "Cost of validation iteration 5000 = 0.013648444347288608 and accuracy val of = 1.0\n",
      "Cost of iteration 5100 = 0.03645194874782619 and accuracy train of = 1.0\n",
      "Cost of validation iteration 5100 = 0.013012334995502755 and accuracy val of = 1.0\n",
      "Cost of iteration 5200 = 0.03479816680115689 and accuracy train of = 1.0\n",
      "Cost of validation iteration 5200 = 0.01242571503955158 and accuracy val of = 1.0\n",
      "Cost of iteration 5300 = 0.03327047958238877 and accuracy train of = 1.0\n",
      "Cost of validation iteration 5300 = 0.011883760792821198 and accuracy val of = 1.0\n",
      "Cost of iteration 5400 = 0.031856045082522655 and accuracy train of = 1.0\n",
      "Cost of validation iteration 5400 = 0.011381753836292552 and accuracy val of = 1.0\n",
      "Cost of iteration 5500 = 0.030543050236777173 and accuracy train of = 1.0\n",
      "Cost of validation iteration 5500 = 0.010915597232224173 and accuracy val of = 1.0\n",
      "Cost of iteration 5600 = 0.029322164121832275 and accuracy train of = 1.0\n",
      "Cost of validation iteration 5600 = 0.0104817944617116 and accuracy val of = 1.0\n",
      "Cost of iteration 5700 = 0.02818450626312661 and accuracy train of = 1.0\n",
      "Cost of validation iteration 5700 = 0.010077397183838634 and accuracy val of = 1.0\n",
      "Cost of iteration 5800 = 0.027122413508426976 and accuracy train of = 1.0\n",
      "Cost of validation iteration 5800 = 0.009699735940773328 and accuracy val of = 1.0\n",
      "Cost of iteration 5900 = 0.02612902665996353 and accuracy train of = 1.0\n",
      "Cost of validation iteration 5900 = 0.009346327397496338 and accuracy val of = 1.0\n",
      "Cost of iteration 6000 = 0.02519827586855584 and accuracy train of = 1.0\n",
      "Cost of validation iteration 6000 = 0.00901519275235818 and accuracy val of = 1.0\n",
      "Cost of iteration 6100 = 0.02432472104351033 and accuracy train of = 1.0\n",
      "Cost of validation iteration 6100 = 0.008704208310945233 and accuracy val of = 1.0\n",
      "Cost of iteration 6200 = 0.02350355453683765 and accuracy train of = 1.0\n",
      "Cost of validation iteration 6200 = 0.008411840301783428 and accuracy val of = 1.0\n",
      "Cost of iteration 6300 = 0.022730621924483146 and accuracy train of = 1.0\n",
      "Cost of validation iteration 6300 = 0.008136597749446276 and accuracy val of = 1.0\n",
      "Cost of iteration 6400 = 0.022001923352988607 and accuracy train of = 1.0\n",
      "Cost of validation iteration 6400 = 0.007876995056669783 and accuracy val of = 1.0\n",
      "Cost of iteration 6500 = 0.02131386975983146 and accuracy train of = 1.0\n",
      "Cost of validation iteration 6500 = 0.007631851025176189 and accuracy val of = 1.0\n",
      "Cost of iteration 6600 = 0.0206635214262133 and accuracy train of = 1.0\n",
      "Cost of validation iteration 6600 = 0.007400074347749888 and accuracy val of = 1.0\n",
      "Cost of iteration 6700 = 0.020047892828875227 and accuracy train of = 1.0\n",
      "Cost of validation iteration 6700 = 0.007180616954712564 and accuracy val of = 1.0\n",
      "Cost of iteration 6800 = 0.01946448228446576 and accuracy train of = 1.0\n",
      "Cost of validation iteration 6800 = 0.006972568226228571 and accuracy val of = 1.0\n",
      "Cost of iteration 6900 = 0.01891089558762317 and accuracy train of = 1.0\n",
      "Cost of validation iteration 6900 = 0.006775087647667796 and accuracy val of = 1.0\n",
      "Cost of iteration 7000 = 0.018385175809666726 and accuracy train of = 1.0\n",
      "Cost of validation iteration 7000 = 0.006587520517210055 and accuracy val of = 1.0\n",
      "Cost of iteration 7100 = 0.017885124109351308 and accuracy train of = 1.0\n",
      "Cost of validation iteration 7100 = 0.006409097633868034 and accuracy val of = 1.0\n",
      "Cost of iteration 7200 = 0.01740917372983374 and accuracy train of = 1.0\n",
      "Cost of validation iteration 7200 = 0.006239228035667508 and accuracy val of = 1.0\n",
      "Cost of iteration 7300 = 0.016955641244911897 and accuracy train of = 1.0\n",
      "Cost of validation iteration 7300 = 0.00607735339997397 and accuracy val of = 1.0\n",
      "Cost of iteration 7400 = 0.016523120160533117 and accuracy train of = 1.0\n",
      "Cost of validation iteration 7400 = 0.0059229477729004784 and accuracy val of = 1.0\n",
      "Cost of iteration 7500 = 0.016110171390157378 and accuracy train of = 1.0\n",
      "Cost of validation iteration 7500 = 0.0057755025260814025 and accuracy val of = 1.0\n",
      "Cost of iteration 7600 = 0.015715575444790075 and accuracy train of = 1.0\n",
      "Cost of validation iteration 7600 = 0.005634617260187395 and accuracy val of = 1.0\n",
      "Cost of iteration 7700 = 0.015338251522233063 and accuracy train of = 1.0\n",
      "Cost of validation iteration 7700 = 0.005499839606152497 and accuracy val of = 1.0\n",
      "Cost of iteration 7800 = 0.014977028893797038 and accuracy train of = 1.0\n",
      "Cost of validation iteration 7800 = 0.005370808875139266 and accuracy val of = 1.0\n",
      "Cost of iteration 7900 = 0.014631013267754263 and accuracy train of = 1.0\n",
      "Cost of validation iteration 7900 = 0.0052471970009066345 and accuracy val of = 1.0\n",
      "Cost of iteration 8000 = 0.01429933836486826 and accuracy train of = 1.0\n",
      "Cost of validation iteration 8000 = 0.005128667871440943 and accuracy val of = 1.0\n",
      "Cost of iteration 8100 = 0.013981125194927653 and accuracy train of = 1.0\n",
      "Cost of validation iteration 8100 = 0.005014952267234976 and accuracy val of = 1.0\n",
      "Cost of iteration 8200 = 0.013675626635649266 and accuracy train of = 1.0\n",
      "Cost of validation iteration 8200 = 0.004905727520500671 and accuracy val of = 1.0\n",
      "Cost of iteration 8300 = 0.013382092632471752 and accuracy train of = 1.0\n",
      "Cost of validation iteration 8300 = 0.004800782620313963 and accuracy val of = 1.0\n",
      "Cost of iteration 8400 = 0.013099875519791419 and accuracy train of = 1.0\n",
      "Cost of validation iteration 8400 = 0.004699882055141923 and accuracy val of = 1.0\n",
      "Cost of iteration 8500 = 0.012828346913953488 and accuracy train of = 1.0\n",
      "Cost of validation iteration 8500 = 0.00460279029240536 and accuracy val of = 1.0\n",
      "Cost of iteration 8600 = 0.01256699957932974 and accuracy train of = 1.0\n",
      "Cost of validation iteration 8600 = 0.0045093266810692515 and accuracy val of = 1.0\n",
      "Cost of iteration 8700 = 0.012315227546098366 and accuracy train of = 1.0\n",
      "Cost of validation iteration 8700 = 0.00441927502281222 and accuracy val of = 1.0\n",
      "Cost of iteration 8800 = 0.012072558300986328 and accuracy train of = 1.0\n",
      "Cost of validation iteration 8800 = 0.004332470112346084 and accuracy val of = 1.0\n",
      "Cost of iteration 8900 = 0.01183853325277212 and accuracy train of = 1.0\n",
      "Cost of validation iteration 8900 = 0.004248752162758088 and accuracy val of = 1.0\n",
      "Cost of iteration 9000 = 0.011612725569387854 and accuracy train of = 1.0\n",
      "Cost of validation iteration 9000 = 0.004167976413358333 and accuracy val of = 1.0\n",
      "Cost of iteration 9100 = 0.011394720430514683 and accuracy train of = 1.0\n",
      "Cost of validation iteration 9100 = 0.004089967153919572 and accuracy val of = 1.0\n",
      "Cost of iteration 9200 = 0.011184097807855169 and accuracy train of = 1.0\n",
      "Cost of validation iteration 9200 = 0.004014601731923906 and accuracy val of = 1.0\n",
      "Cost of iteration 9300 = 0.010980512814360084 and accuracy train of = 1.0\n",
      "Cost of validation iteration 9300 = 0.00394175134574619 and accuracy val of = 1.0\n",
      "Cost of iteration 9400 = 0.010783683569434602 and accuracy train of = 1.0\n",
      "Cost of validation iteration 9400 = 0.0038712957980452677 and accuracy val of = 1.0\n",
      "Cost of iteration 9500 = 0.010593269126824418 and accuracy train of = 1.0\n",
      "Cost of validation iteration 9500 = 0.003803147473515915 and accuracy val of = 1.0\n",
      "Cost of iteration 9600 = 0.010408945009145272 and accuracy train of = 1.0\n",
      "Cost of validation iteration 9600 = 0.0037371528375898183 and accuracy val of = 1.0\n",
      "Cost of iteration 9700 = 0.010230445890834943 and accuracy train of = 1.0\n",
      "Cost of validation iteration 9700 = 0.0036732535449206477 and accuracy val of = 1.0\n",
      "Cost of iteration 9800 = 0.010057534048910598 and accuracy train of = 1.0\n",
      "Cost of validation iteration 9800 = 0.003611331889685476 and accuracy val of = 1.0\n",
      "Cost of iteration 9900 = 0.009889976378334518 and accuracy train of = 1.0\n",
      "Cost of validation iteration 9900 = 0.0035513279226159463 and accuracy val of = 1.0\n",
      "Cost of iteration 10000 = 0.009727503838295041 and accuracy train of = 1.0\n",
      "Cost of validation iteration 10000 = 0.003493144449341622 and accuracy val of = 1.0\n",
      "Cost of iteration 10100 = 0.009569890218132397 and accuracy train of = 1.0\n",
      "Cost of validation iteration 10100 = 0.0034366963508897226 and accuracy val of = 1.0\n"
     ]
    },
    {
     "name": "stdout",
     "output_type": "stream",
     "text": [
      "Cost of iteration 10200 = 0.009416949851117495 and accuracy train of = 1.0\n",
      "Cost of validation iteration 10200 = 0.0033819320237715228 and accuracy val of = 1.0\n",
      "Cost of iteration 10300 = 0.00926846319215201 and accuracy train of = 1.0\n",
      "Cost of validation iteration 10300 = 0.0033287551374365423 and accuracy val of = 1.0\n",
      "Cost of iteration 10400 = 0.009124252492685211 and accuracy train of = 1.0\n",
      "Cost of validation iteration 10400 = 0.003277105870824974 and accuracy val of = 1.0\n",
      "Cost of iteration 10500 = 0.008984153863544913 and accuracy train of = 1.0\n",
      "Cost of validation iteration 10500 = 0.0032269137933727482 and accuracy val of = 1.0\n",
      "Cost of iteration 10600 = 0.008847989009705381 and accuracy train of = 1.0\n",
      "Cost of validation iteration 10600 = 0.0031781293961924886 and accuracy val of = 1.0\n",
      "Cost of iteration 10700 = 0.00871559956273206 and accuracy train of = 1.0\n",
      "Cost of validation iteration 10700 = 0.003130696820736271 and accuracy val of = 1.0\n",
      "Cost of iteration 10800 = 0.008586848328160073 and accuracy train of = 1.0\n",
      "Cost of validation iteration 10800 = 0.003084575231517896 and accuracy val of = 1.0\n",
      "Cost of iteration 10900 = 0.008461590898035798 and accuracy train of = 1.0\n",
      "Cost of validation iteration 10900 = 0.0030396875787486286 and accuracy val of = 1.0\n",
      "Cost of iteration 11000 = 0.008339663098450936 and accuracy train of = 1.0\n",
      "Cost of validation iteration 11000 = 0.002996004779261107 and accuracy val of = 1.0\n",
      "Cost of iteration 11100 = 0.008220987898494125 and accuracy train of = 1.0\n",
      "Cost of validation iteration 11100 = 0.002953485012264298 and accuracy val of = 1.0\n",
      "Cost of iteration 11200 = 0.008105395436907394 and accuracy train of = 1.0\n",
      "Cost of validation iteration 11200 = 0.0029120608538759376 and accuracy val of = 1.0\n",
      "Cost of iteration 11300 = 0.007992803008149774 and accuracy train of = 1.0\n",
      "Cost of validation iteration 11300 = 0.0028717087729036436 and accuracy val of = 1.0\n",
      "Cost of iteration 11400 = 0.007883065060095043 and accuracy train of = 1.0\n",
      "Cost of validation iteration 11400 = 0.002832369269784862 and accuracy val of = 1.0\n",
      "Cost of iteration 11500 = 0.007776101515054993 and accuracy train of = 1.0\n",
      "Cost of validation iteration 11500 = 0.002794019130496361 and accuracy val of = 1.0\n",
      "Cost of iteration 11600 = 0.007671802932541217 and accuracy train of = 1.0\n",
      "Cost of validation iteration 11600 = 0.002756629217580442 and accuracy val of = 1.0\n",
      "Cost of iteration 11700 = 0.007570096277204211 and accuracy train of = 1.0\n",
      "Cost of validation iteration 11700 = 0.002720167788765669 and accuracy val of = 1.0\n",
      "Cost of iteration 11800 = 0.00747087557970981 and accuracy train of = 1.0\n",
      "Cost of validation iteration 11800 = 0.002684597239095938 and accuracy val of = 1.0\n",
      "Cost of iteration 11900 = 0.00737405303370023 and accuracy train of = 1.0\n",
      "Cost of validation iteration 11900 = 0.002649890979848192 and accuracy val of = 1.0\n",
      "Cost of iteration 12000 = 0.007279537815724668 and accuracy train of = 1.0\n",
      "Cost of validation iteration 12000 = 0.002616006172646507 and accuracy val of = 1.0\n",
      "Cost of iteration 12100 = 0.0071872662698202186 and accuracy train of = 1.0\n",
      "Cost of validation iteration 12100 = 0.00258291898499833 and accuracy val of = 1.0\n",
      "Cost of iteration 12200 = 0.007097148016299372 and accuracy train of = 1.0\n",
      "Cost of validation iteration 12200 = 0.0025506024938080777 and accuracy val of = 1.0\n",
      "Cost of iteration 12300 = 0.007009112769321826 and accuracy train of = 1.0\n",
      "Cost of validation iteration 12300 = 0.002519036947628181 and accuracy val of = 1.0\n",
      "Cost of iteration 12400 = 0.006923104158937306 and accuracy train of = 1.0\n",
      "Cost of validation iteration 12400 = 0.0024881883536935117 and accuracy val of = 1.0\n",
      "Cost of iteration 12500 = 0.0068390373072614325 and accuracy train of = 1.0\n",
      "Cost of validation iteration 12500 = 0.0024580411725260614 and accuracy val of = 1.0\n",
      "Cost of iteration 12600 = 0.006756860907299834 and accuracy train of = 1.0\n",
      "Cost of validation iteration 12600 = 0.002428572643745259 and accuracy val of = 1.0\n",
      "Cost of iteration 12700 = 0.006676503359380041 and accuracy train of = 1.0\n",
      "Cost of validation iteration 12700 = 0.0023997457989967173 and accuracy val of = 1.0\n",
      "Cost of iteration 12800 = 0.0065979147471377135 and accuracy train of = 1.0\n",
      "Cost of validation iteration 12800 = 0.002371554459998767 and accuracy val of = 1.0\n",
      "Cost of iteration 12900 = 0.006521047889444411 and accuracy train of = 1.0\n",
      "Cost of validation iteration 12900 = 0.0023439857818039456 and accuracy val of = 1.0\n",
      "Cost of iteration 13000 = 0.006445831969210038 and accuracy train of = 1.0\n",
      "Cost of validation iteration 13000 = 0.002317008977998546 and accuracy val of = 1.0\n",
      "Cost of iteration 13100 = 0.006372229458456264 and accuracy train of = 1.0\n",
      "Cost of validation iteration 13100 = 0.0022906028504789213 and accuracy val of = 1.0\n",
      "Cost of iteration 13200 = 0.006300181980971641 and accuracy train of = 1.0\n",
      "Cost of validation iteration 13200 = 0.0022647520244037894 and accuracy val of = 1.0\n",
      "Cost of iteration 13300 = 0.006229644208517333 and accuracy train of = 1.0\n",
      "Cost of validation iteration 13300 = 0.002239446333240898 and accuracy val of = 1.0\n",
      "Cost of iteration 13400 = 0.006160568573111345 and accuracy train of = 1.0\n",
      "Cost of validation iteration 13400 = 0.0022146658053885586 and accuracy val of = 1.0\n",
      "Cost of iteration 13500 = 0.006092920190278384 and accuracy train of = 1.0\n",
      "Cost of validation iteration 13500 = 0.002190393822062788 and accuracy val of = 1.0\n",
      "Cost of iteration 13600 = 0.006026653320934443 and accuracy train of = 1.0\n",
      "Cost of validation iteration 13600 = 0.002166615734802981 and accuracy val of = 1.0\n",
      "Cost of iteration 13700 = 0.005961723338205524 and accuracy train of = 1.0\n",
      "Cost of validation iteration 13700 = 0.0021433176294395604 and accuracy val of = 1.0\n",
      "Cost of iteration 13800 = 0.005898079423103822 and accuracy train of = 1.0\n",
      "Cost of validation iteration 13800 = 0.002120483224708575 and accuracy val of = 1.0\n",
      "Cost of iteration 13900 = 0.005835705207013952 and accuracy train of = 1.0\n",
      "Cost of validation iteration 13900 = 0.0020981053020409945 and accuracy val of = 1.0\n",
      "Cost of iteration 14000 = 0.005774558073084462 and accuracy train of = 1.0\n",
      "Cost of validation iteration 14000 = 0.0020761589314360228 and accuracy val of = 1.0\n",
      "Cost of iteration 14100 = 0.005714601539542665 and accuracy train of = 1.0\n",
      "Cost of validation iteration 14100 = 0.0020546393955325707 and accuracy val of = 1.0\n",
      "Cost of iteration 14200 = 0.005655798841130575 and accuracy train of = 1.0\n",
      "Cost of validation iteration 14200 = 0.0020335373119802673 and accuracy val of = 1.0\n",
      "Cost of iteration 14300 = 0.005598129851846986 and accuracy train of = 1.0\n",
      "Cost of validation iteration 14300 = 0.002012843784085001 and accuracy val of = 1.0\n",
      "Cost of iteration 14400 = 0.0055415518969545285 and accuracy train of = 1.0\n",
      "Cost of validation iteration 14400 = 0.0019925353557759635 and accuracy val of = 1.0\n",
      "Cost of iteration 14500 = 0.005486040204634965 and accuracy train of = 1.0\n",
      "Cost of validation iteration 14500 = 0.0019726104888529087 and accuracy val of = 1.0\n",
      "Cost of iteration 14600 = 0.005431552746913137 and accuracy train of = 1.0\n",
      "Cost of validation iteration 14600 = 0.0019530533749008245 and accuracy val of = 1.0\n",
      "Cost of iteration 14700 = 0.005378082731652592 and accuracy train of = 1.0\n",
      "Cost of validation iteration 14700 = 0.0019338616767965008 and accuracy val of = 1.0\n",
      "Cost of iteration 14800 = 0.005325593507823909 and accuracy train of = 1.0\n",
      "Cost of validation iteration 14800 = 0.0019150208119021212 and accuracy val of = 1.0\n",
      "Cost of iteration 14900 = 0.005274055426007095 and accuracy train of = 1.0\n",
      "Cost of validation iteration 14900 = 0.0018965205449833203 and accuracy val of = 1.0\n",
      "Cost of iteration 15000 = 0.005223446597598736 and accuracy train of = 1.0\n",
      "Cost of validation iteration 15000 = 0.0018783522471025056 and accuracy val of = 1.0\n",
      "Cost of iteration 15100 = 0.00517374504976619 and accuracy train of = 1.0\n",
      "Cost of validation iteration 15100 = 0.0018605097353652333 and accuracy val of = 1.0\n",
      "Cost of iteration 15200 = 0.00512492335850947 and accuracy train of = 1.0\n",
      "Cost of validation iteration 15200 = 0.0018429860295205208 and accuracy val of = 1.0\n",
      "Cost of iteration 15300 = 0.0050769616742673135 and accuracy train of = 1.0\n",
      "Cost of validation iteration 15300 = 0.0018257676393637898 and accuracy val of = 1.0\n"
     ]
    },
    {
     "name": "stdout",
     "output_type": "stream",
     "text": [
      "Cost of iteration 15400 = 0.005029836853725493 and accuracy train of = 1.0\n",
      "Cost of validation iteration 15400 = 0.0018088443274779623 and accuracy val of = 1.0\n",
      "Cost of iteration 15500 = 0.004983529141613313 and accuracy train of = 1.0\n",
      "Cost of validation iteration 15500 = 0.0017922210580976782 and accuracy val of = 1.0\n",
      "Cost of iteration 15600 = 0.004938022600688168 and accuracy train of = 1.0\n",
      "Cost of validation iteration 15600 = 0.0017758843500429193 and accuracy val of = 1.0\n",
      "Cost of iteration 15700 = 0.004893293417684713 and accuracy train of = 1.0\n",
      "Cost of validation iteration 15700 = 0.001759824958647126 and accuracy val of = 1.0\n",
      "Cost of iteration 15800 = 0.004849309441871852 and accuracy train of = 1.0\n",
      "Cost of validation iteration 15800 = 0.0017440346836067489 and accuracy val of = 1.0\n",
      "Cost of iteration 15900 = 0.0048060723527440785 and accuracy train of = 1.0\n",
      "Cost of validation iteration 15900 = 0.0017285130371748987 and accuracy val of = 1.0\n",
      "Cost of iteration 16000 = 0.004763552337861134 and accuracy train of = 1.0\n",
      "Cost of validation iteration 16000 = 0.0017132460595062327 and accuracy val of = 1.0\n",
      "Cost of iteration 16100 = 0.004721735950446099 and accuracy train of = 1.0\n",
      "Cost of validation iteration 16100 = 0.0016982308826008804 and accuracy val of = 1.0\n",
      "Cost of iteration 16200 = 0.004680608557420321 and accuracy train of = 1.0\n",
      "Cost of validation iteration 16200 = 0.0016834639218086716 and accuracy val of = 1.0\n",
      "Cost of iteration 16300 = 0.004640151089693532 and accuracy train of = 1.0\n",
      "Cost of validation iteration 16300 = 0.001668938061628254 and accuracy val of = 1.0\n",
      "Cost of iteration 16400 = 0.00460034668077611 and accuracy train of = 1.0\n",
      "Cost of validation iteration 16400 = 0.0016546460905049456 and accuracy val of = 1.0\n",
      "Cost of iteration 16500 = 0.004561181349729705 and accuracy train of = 1.0\n",
      "Cost of validation iteration 16500 = 0.0016405848344672354 and accuracy val of = 1.0\n",
      "Cost of iteration 16600 = 0.004522638043487268 and accuracy train of = 1.0\n",
      "Cost of validation iteration 16600 = 0.001626740793501451 and accuracy val of = 1.0\n",
      "Cost of iteration 16700 = 0.004484706698785388 and accuracy train of = 1.0\n",
      "Cost of validation iteration 16700 = 0.0016131181770251966 and accuracy val of = 1.0\n",
      "Cost of iteration 16800 = 0.004447368054488404 and accuracy train of = 1.0\n",
      "Cost of validation iteration 16800 = 0.00159971191137867 and accuracy val of = 1.0\n",
      "Cost of iteration 16900 = 0.004410611843512931 and accuracy train of = 1.0\n",
      "Cost of validation iteration 16900 = 0.001586510439749966 and accuracy val of = 1.0\n",
      "Cost of iteration 17000 = 0.004374427075994881 and accuracy train of = 1.0\n",
      "Cost of validation iteration 17000 = 0.00157351468053756 and accuracy val of = 1.0\n",
      "Cost of iteration 17100 = 0.004338796944425931 and accuracy train of = 1.0\n",
      "Cost of validation iteration 17100 = 0.0015607160496764329 and accuracy val of = 1.0\n",
      "Cost of iteration 17200 = 0.004303713502712829 and accuracy train of = 1.0\n",
      "Cost of validation iteration 17200 = 0.0015481157375964406 and accuracy val of = 1.0\n",
      "Cost of iteration 17300 = 0.0042691568501791455 and accuracy train of = 1.0\n",
      "Cost of validation iteration 17300 = 0.0015357024544150886 and accuracy val of = 1.0\n",
      "Cost of iteration 17400 = 0.004235120961314679 and accuracy train of = 1.0\n",
      "Cost of validation iteration 17400 = 0.0015234768111746083 and accuracy val of = 1.0\n",
      "Cost of iteration 17500 = 0.004201592636252059 and accuracy train of = 1.0\n",
      "Cost of validation iteration 17500 = 0.001511438230948726 and accuracy val of = 1.0\n",
      "Cost of iteration 17600 = 0.004168564731062295 and accuracy train of = 1.0\n",
      "Cost of validation iteration 17600 = 0.0014995770125777552 and accuracy val of = 1.0\n",
      "Cost of iteration 17700 = 0.004136021952583942 and accuracy train of = 1.0\n",
      "Cost of validation iteration 17700 = 0.0014878863628474646 and accuracy val of = 1.0\n",
      "Cost of iteration 17800 = 0.004103961259134732 and accuracy train of = 1.0\n",
      "Cost of validation iteration 17800 = 0.0014763708680096408 and accuracy val of = 1.0\n",
      "Cost of iteration 17900 = 0.004072364893522012 and accuracy train of = 1.0\n",
      "Cost of validation iteration 17900 = 0.0014650223597729864 and accuracy val of = 1.0\n",
      "Cost of iteration 18000 = 0.004041223847403122 and accuracy train of = 1.0\n",
      "Cost of validation iteration 18000 = 0.0014538327735020076 and accuracy val of = 1.0\n",
      "Cost of iteration 18100 = 0.004010531060259339 and accuracy train of = 1.0\n",
      "Cost of validation iteration 18100 = 0.0014428051032776572 and accuracy val of = 1.0\n",
      "Cost of iteration 18200 = 0.003980272025659892 and accuracy train of = 1.0\n",
      "Cost of validation iteration 18200 = 0.0014319337971483883 and accuracy val of = 1.0\n",
      "Cost of iteration 18300 = 0.003950442439165879 and accuracy train of = 1.0\n",
      "Cost of validation iteration 18300 = 0.0014212164995752428 and accuracy val of = 1.0\n",
      "Cost of iteration 18400 = 0.003921040297256587 and accuracy train of = 1.0\n",
      "Cost of validation iteration 18400 = 0.0014106534114454129 and accuracy val of = 1.0\n",
      "Cost of iteration 18500 = 0.0038920411304959935 and accuracy train of = 1.0\n",
      "Cost of validation iteration 18500 = 0.0014002370764574115 and accuracy val of = 1.0\n",
      "Cost of iteration 18600 = 0.003863446870157201 and accuracy train of = 1.0\n",
      "Cost of validation iteration 18600 = 0.0013899616478233367 and accuracy val of = 1.0\n",
      "Cost of iteration 18700 = 0.0038352503790650616 and accuracy train of = 1.0\n",
      "Cost of validation iteration 18700 = 0.001379830210663261 and accuracy val of = 1.0\n",
      "Cost of iteration 18800 = 0.0038074435422065667 and accuracy train of = 1.0\n",
      "Cost of validation iteration 18800 = 0.0013698385434906671 and accuracy val of = 1.0\n",
      "Cost of iteration 18900 = 0.0037800125998700266 and accuracy train of = 1.0\n",
      "Cost of validation iteration 18900 = 0.0013599836641664058 and accuracy val of = 1.0\n",
      "Cost of iteration 19000 = 0.0037529493052101356 and accuracy train of = 1.0\n",
      "Cost of validation iteration 19000 = 0.001350260414245965 and accuracy val of = 1.0\n",
      "Cost of iteration 19100 = 0.003726250705628946 and accuracy train of = 1.0\n",
      "Cost of validation iteration 19100 = 0.0013406680945830822 and accuracy val of = 1.0\n",
      "Cost of iteration 19200 = 0.0036999124640376586 and accuracy train of = 1.0\n",
      "Cost of validation iteration 19200 = 0.0013312042144287557 and accuracy val of = 1.0\n",
      "Cost of iteration 19300 = 0.003673925817538908 and accuracy train of = 1.0\n",
      "Cost of validation iteration 19300 = 0.001321870293843747 and accuracy val of = 1.0\n",
      "Cost of iteration 19400 = 0.0036482775117199443 and accuracy train of = 1.0\n",
      "Cost of validation iteration 19400 = 0.0013126543416938105 and accuracy val of = 1.0\n",
      "Cost of iteration 19500 = 0.0036229727812088037 and accuracy train of = 1.0\n",
      "Cost of validation iteration 19500 = 0.0013035636597667278 and accuracy val of = 1.0\n",
      "Cost of iteration 19600 = 0.003597995817302503 and accuracy train of = 1.0\n",
      "Cost of validation iteration 19600 = 0.0012945880244087196 and accuracy val of = 1.0\n",
      "Cost of iteration 19700 = 0.003573345090394652 and accuracy train of = 1.0\n",
      "Cost of validation iteration 19700 = 0.00128572994841038 and accuracy val of = 1.0\n",
      "Cost of iteration 19800 = 0.003549010974130194 and accuracy train of = 1.0\n",
      "Cost of validation iteration 19800 = 0.0012769842756809515 and accuracy val of = 1.0\n",
      "Cost of iteration 19900 = 0.003524988165137122 and accuracy train of = 1.0\n",
      "Cost of validation iteration 19900 = 0.0012683533135677018 and accuracy val of = 1.0\n"
     ]
    },
    {
     "data": {
      "image/png": "[encoded data removed]",
      "text/plain": [
       "<Figure size 1080x360 with 2 Axes>"
      ]
     },
     "metadata": {
      "needs_background": "light"
     },
     "output_type": "display_data"
    }
   ],
   "source": [
    "# =========== Setting dataset ================\n",
    "\n",
    "#N,n_row,n_col,data=read_asc_data('dataSets/line600.txt')\n",
    "N,n_row,n_col,data=read_asc_data('dataSets/square_circle.txt')\n",
    "\n",
    "print('find %d images of %d X %d pixels' % (N,n_row,n_col))\n",
    "\n",
    "hidden_nodes= 3\n",
    "#plot_data(10,10,n_row,n_col,data)\n",
    "Nt=int(N*0.6);I=n_row*n_col; #split training vs test sets\n",
    "\n",
    "Nval=int(N*0.2);\n",
    "\n",
    "Xt=data[:Nt,:-1];Yt=data[:Nt,-1]\n",
    "Xval=data[Nt:Nval+Nt,:-1];Yval=data[Nt:Nval+Nt,-1]\n",
    "\n",
    "Yt = Yt.reshape(len(Yt),1)\n",
    "Yval=Yval.reshape(len(Yval),1)\n",
    "\n",
    "np.place(Yt, Yt!=1, [0])\n",
    "np.place(Yval, Yval!=1, [0])\n",
    "\n",
    "m = Xt.shape[0]\n",
    "\n",
    "Xt = Xt.T\n",
    "Yt = Yt.T\n",
    "Xval=Xval.T\n",
    "Yval=Yval.T\n",
    "\n",
    "print(\"\\nInformation about the dataset : \")\n",
    "print(\"We have \" + str(np.sum(Yt)) + \" images with label = 1 and \" + str(Yt.shape[1]-np.sum(Yt)) + \" images with label = 0\\n\")\n",
    "\n",
    "cache,parameters,times,acc_train,acc_val = model(hidden_nodes,14000,0.01,\"tanh\",32,True)"
   ]
  },
  {
   "cell_type": "code",
   "execution_count": 181,
   "metadata": {},
   "outputs": [],
   "source": [
    "#funções de ativação disponíveis por agora\n",
    "# * Relu\n",
    "# * Tanh\n",
    "# * Sigmoid\n",
    "# * Leaky_Relu\n",
    "# * Swish\n",
    "\n",
    "def activation_time(hidden_nodes):\n",
    "    \n",
    "    activations_time = []\n",
    "    accuracys = []\n",
    "    \n",
    "    activations = [\"swish\",\"relu\",\"sigmoid\",\"leaky_relu\",\"tanh\"]\n",
    "    \n",
    "    for activation in activations:\n",
    "        \n",
    "        cache,parameters,times, acc_train, acc_val = model(hidden_nodes,1000,0.01,activation,32,False)\n",
    "    \n",
    "        activations_time.append(np.mean(times))\n",
    "        accuracys.append([acc_train,acc_val])\n",
    "\n",
    "    return activations_time,accuracys,activations\n",
    "\n",
    "#fazemos com dois extremos, um muito baixo, 3 e outro alto, 40 para ver a diferença\n",
    "activations_time_1, accuracy1, activations = activation_time(3)\n",
    "activations_time_2, accuracy2, activations = activation_time(40)\n",
    "#activations_time_3, activations = activation_time(100)"
   ]
  },
  {
   "cell_type": "code",
   "execution_count": 184,
   "metadata": {},
   "outputs": [
    {
     "name": "stdout",
     "output_type": "stream",
     "text": [
      "Activations = ['swish', 'relu', 'sigmoid', 'leaky_relu', 'tanh']\n",
      "Accuracy train and val for 1 = [[0.5066666666666667, 0.52], [0.7755555555555556, 0.79], [0.5066666666666667, 0.52], [0.75, 0.75], [0.6977777777777778, 0.68]]\n"
     ]
    },
    {
     "data": {
      "text/plain": [
       "Text(0.5, 1.0, 'Tempo médio de ativação por epoch relativa a X neurónios')"
      ]
     },
     "execution_count": 184,
     "metadata": {},
     "output_type": "execute_result"
    },
    {
     "data": {
      "image/png": "[encoded data removed]",
      "text/plain": [
       "<Figure size 432x288 with 1 Axes>"
      ]
     },
     "metadata": {
      "needs_background": "light"
     },
     "output_type": "display_data"
    }
   ],
   "source": [
    "import numpy as np\n",
    "import matplotlib.pyplot as plt\n",
    "import pandas as pd\n",
    "\n",
    "print(\"Activations = \" + str(activations))\n",
    "print(\"Accuracy train and val for 1 = \" + str(accuracy1))\n",
    "\n",
    "\n",
    "X = activations\n",
    "Y = activations_time_1\n",
    "Z = activations_time_2\n",
    "L = activations_time_3\n",
    "\n",
    "df = pd.DataFrame(np.c_[Y,Z,L], index = X)\n",
    "ax = df.plot(kind='bar')\n",
    "ax.legend([\"3\", \"40\",\"100\"])\n",
    "ax.set_title(\"Tempo médio de ativação por epoch relativa a X neurónios\")\n",
    "\n"
   ]
  },
  {
   "cell_type": "code",
   "execution_count": 166,
   "metadata": {
    "scrolled": false
   },
   "outputs": [
    {
     "name": "stdout",
     "output_type": "stream",
     "text": [
      "(3, 144)\n",
      "(1, 3)\n",
      "***** ***** First Layer ***** *****\n"
     ]
    },
    {
     "data": {
      "image/png": "[encoded data removed]",
      "text/plain": [
       "<Figure size 720x720 with 3 Axes>"
      ]
     },
     "metadata": {
      "needs_background": "light"
     },
     "output_type": "display_data"
    },
    {
     "name": "stdout",
     "output_type": "stream",
     "text": [
      "***** ***** *****  *****\n",
      "\n",
      "\n",
      "***** ***** Second Layer ***** *****\n"
     ]
    },
    {
     "data": {
      "image/png": "[encoded data removed]",
      "text/plain": [
       "<Figure size 432x288 with 1 Axes>"
      ]
     },
     "metadata": {
      "needs_background": "light"
     },
     "output_type": "display_data"
    },
    {
     "name": "stdout",
     "output_type": "stream",
     "text": [
      "***** ***** *****  *****\n"
     ]
    }
   ],
   "source": [
    "#caso os pesos sejam maiores que 0.5 digo que é 1 caso contrário 0\n",
    "def plot_weights(parameters,img_size):\n",
    "    w1 = parameters[\"w1\"]\n",
    "    w2 = parameters[\"w2\"]\n",
    "    \n",
    "    print(w1.shape)\n",
    "    print(w2.shape)\n",
    "    \n",
    "    img = w1.reshape(hidden_nodes,img_size,img_size)\n",
    "    \n",
    "    plt.ion()\n",
    "    plt.figure(figsize=(10, 10))\n",
    "    \n",
    "    print(\"***** ***** First Layer ***** *****\")\n",
    "    for i in range(hidden_nodes):\n",
    "        ax = plt.subplot(1, hidden_nodes, i + 1)\n",
    "        plt.pcolormesh(img[i], edgecolors='k', linewidth=2)\n",
    "        ax = plt.gca()\n",
    "        ax.set_aspect('equal')         \n",
    "    \n",
    "        \n",
    "    plt.show(block=True)\n",
    "    print('***** ***** *****  *****')\n",
    "\n",
    "    \n",
    "    print(\"\\n\\n***** ***** Second Layer ***** *****\")\n",
    "    \n",
    "    plt.ion()\n",
    "    plt.pcolormesh(w2, edgecolors='k', linewidth=2)\n",
    "    ax = plt.gca()\n",
    "    ax.set_aspect('equal')         \n",
    "    plt.show(block=True)\n",
    "    plt.pause(0.001)\n",
    "    print('***** ***** *****  *****')    \n",
    "\n",
    "plot_weights(parameters,n_row)"
   ]
  },
  {
   "cell_type": "code",
   "execution_count": 167,
   "metadata": {},
   "outputs": [
    {
     "name": "stdout",
     "output_type": "stream",
     "text": [
      "(3, 1)\n",
      "This is the Z for the = 1.0 output\n",
      "***** ***** First Layer ***** *****\n"
     ]
    },
    {
     "data": {
      "image/png": "[encoded data removed]",
      "text/plain": [
       "<Figure size 360x360 with 1 Axes>"
      ]
     },
     "metadata": {
      "needs_background": "light"
     },
     "output_type": "display_data"
    },
    {
     "name": "stdout",
     "output_type": "stream",
     "text": [
      "***** ***** *****  *****\n",
      "\n",
      "\n",
      "***** ***** Second Layer ***** *****\n"
     ]
    },
    {
     "data": {
      "image/png": "[encoded data removed]",
      "text/plain": [
       "<Figure size 144x216 with 1 Axes>"
      ]
     },
     "metadata": {
      "needs_background": "light"
     },
     "output_type": "display_data"
    },
    {
     "name": "stdout",
     "output_type": "stream",
     "text": [
      "***** ***** *****  *****\n"
     ]
    }
   ],
   "source": [
    "def plot_Z_per_input(input_image,parameters,output):\n",
    "    \n",
    "    A2, cache = feed_forward(input_image,parameters,\"tanh\");\n",
    "    \n",
    "    Z1 = cache[\"Z1\"]\n",
    "    Z2 = cache[\"Z2\"]\n",
    "    A1 = cache[\"A1\"]\n",
    "    A2 = cache[\"A2\"]\n",
    "    \n",
    "    print(Z1.shape)\n",
    "    \n",
    "    plt.ion()\n",
    "    plt.figure(figsize=(5, 5))\n",
    "    \n",
    "    print(\"This is the Z for the = \" + str(output) + \" output\")\n",
    "    \n",
    "    print(\"***** ***** First Layer ***** *****\")\n",
    "    \n",
    "    plt.ion()\n",
    "    plt.pcolormesh(Z1.T, edgecolors='k', linewidth=2)\n",
    "    ax = plt.gca()\n",
    "    ax.set_aspect('equal')         \n",
    "    plt.show(block=True)\n",
    "    plt.pause(0.001)\n",
    "    \n",
    "    print('***** ***** *****  *****')\n",
    "\n",
    "    plt.figure(figsize=(2, 3))\n",
    "    print(\"\\n\\n***** ***** Second Layer ***** *****\")\n",
    "    \n",
    "    plt.ion()\n",
    "    plt.pcolormesh(Z2, edgecolors='k', linewidth=2)\n",
    "    ax = plt.gca()\n",
    "    ax.set_aspect('equal')         \n",
    "    plt.show(block=True)\n",
    "    plt.pause(0.001)\n",
    "    print('***** ***** *****  *****')    \n",
    "\n",
    "x = Xt[:,4].reshape(Xt[:,0].shape[0],1)\n",
    "y = Yt[:,4][0]\n",
    "\n",
    "plot_Z_per_input(x,parameters,y)\n"
   ]
  },
  {
   "cell_type": "code",
   "execution_count": 168,
   "metadata": {},
   "outputs": [
    {
     "name": "stdout",
     "output_type": "stream",
     "text": [
      "----------  Confusion matrix on train set with 900 images ------------\n"
     ]
    },
    {
     "data": {
      "image/png": "[encoded data removed]",
      "text/plain": [
       "<Figure size 432x216 with 2 Axes>"
      ]
     },
     "metadata": {
      "needs_background": "light"
     },
     "output_type": "display_data"
    },
    {
     "name": "stdout",
     "output_type": "stream",
     "text": [
      "----------  Confusion matrix on test set with 300 ------------\n"
     ]
    },
    {
     "data": {
      "image/png": "[encoded data removed]",
      "text/plain": [
       "<Figure size 432x216 with 2 Axes>"
      ]
     },
     "metadata": {
      "needs_background": "light"
     },
     "output_type": "display_data"
    }
   ],
   "source": [
    "from string import ascii_uppercase\n",
    "from pandas import DataFrame\n",
    "import numpy as np\n",
    "import seaborn as sn\n",
    "from sklearn.metrics import confusion_matrix\n",
    "\n",
    "def my_confusion_matrix(parameters):\n",
    "    \n",
    "    Ne=N-Nt;\n",
    "    Xe=data[Nt+Nval:N,:-1];Ye=data[Nt+Nval:N,-1]; \n",
    "    Ye = np.where(Ye == -1, 0,1)\n",
    "    Xe = Xe.T; Ye = Ye.T #test set\n",
    "    \n",
    "    #Xt,Yt -> train set\n",
    "    \n",
    "    predictions_train_set , _ = feed_forward(Xt,parameters,activation_function)\n",
    "    predictions_test_set , _ = feed_forward(Xe,parameters,activation_function)\n",
    "    predictions_train_set = np.where(predictions_train_set < 0.5 , 0 , 1) \n",
    "    predictions_test_set = np.where(predictions_test_set < 0.5 , 0 , 1) \n",
    "    \n",
    "    labels = [0,1]\n",
    "    columns = ['True','False']\n",
    "    \n",
    "    print(\"----------  Confusion matrix on train set with \" + str(Yt.shape[1]) + \" images ------------\")\n",
    "    \n",
    "    #data\n",
    "    y_test = Yt.T\n",
    "    predic = predictions_train_set.T\n",
    "\n",
    "    #confusion matrix\n",
    "    confm = confusion_matrix(y_test, predic,labels)\n",
    "    #confusion matrix to datafram\n",
    "    df_cm = DataFrame(confm, index=columns, columns=columns)\n",
    "    df_cm.plot(figsize=(6,3));\n",
    "    \n",
    "    #plot\n",
    "    ax = sn.heatmap(df_cm, annot=True)\n",
    "    plt.show()\n",
    "    #same thing on test set\n",
    "    print(\"----------  Confusion matrix on test set with \" + str(Ye.shape[0]) + \" ------------\")\n",
    "    y_test = Ye.T\n",
    "    predic = predictions_test_set.T\n",
    "    \n",
    "    confm = confusion_matrix(y_test, predic)\n",
    "    df_cm = DataFrame(confm, index=columns, columns=columns)\n",
    "    df_cm.plot(figsize=(6,3));\n",
    "    ax = sn.heatmap(df_cm, annot=True)\n",
    "    \n",
    "my_confusion_matrix(parameters)"
   ]
  },
  {
   "cell_type": "code",
   "execution_count": 119,
   "metadata": {},
   "outputs": [
    {
     "data": {
      "image/png": "[encoded data removed]",
      "text/plain": [
       "<Figure size 720x720 with 100 Axes>"
      ]
     },
     "metadata": {
      "needs_background": "light"
     },
     "output_type": "display_data"
    }
   ],
   "source": [
    "Ne=N-Nt;\n",
    "Xe=data[Nt:N,:-1];Ye=data[Nt:N,-1];\n",
    "Ye = np.where(Ye == -1, 0,1)\n",
    "plot_tagged_data(10,10,n_row,n_col,Xe,Ye,parameters)"
   ]
  },
  {
   "cell_type": "code",
   "execution_count": null,
   "metadata": {},
   "outputs": [],
   "source": []
  }
 ],
 "metadata": {
  "kernelspec": {
   "display_name": "Python 3",
   "language": "python",
   "name": "python3"
  },
  "language_info": {
   "codemirror_mode": {
    "name": "ipython",
    "version": 3
   },
   "file_extension": ".py",
   "mimetype": "text/x-python",
   "name": "python",
   "nbconvert_exporter": "python",
   "pygments_lexer": "ipython3",
   "version": "3.7.3"
  }
 },
 "nbformat": 4,
 "nbformat_minor": 4
}
