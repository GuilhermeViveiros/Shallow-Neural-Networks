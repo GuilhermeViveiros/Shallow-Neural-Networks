{
 "cells": [
  {
   "cell_type": "markdown",
   "metadata": {},
   "source": [
    "> Pacotes necessários"
   ]
  },
  {
   "cell_type": "code",
   "execution_count": 10,
   "metadata": {},
   "outputs": [],
   "source": [
    "import scipy\n",
    "from PIL import Image\n",
    "import numpy as np\n",
    "import os\n",
    "import matplotlib.pylab as plt\n",
    "import matplotlib.image as mpimg\n",
    "import importlib"
   ]
  },
  {
   "cell_type": "markdown",
   "metadata": {},
   "source": [
    "> Esta célula trata dos plots dos datasets com e sem preditions e a função que trata de fazer o parse do dataset"
   ]
  },
  {
   "cell_type": "code",
   "execution_count": 11,
   "metadata": {},
   "outputs": [],
   "source": [
    "def plot_tagged_data(row,col,n_row,n_col,X,Y,parameters): \n",
    "    fig=plt.figure(figsize=(row,col))\n",
    "    \n",
    "    l,cache = feed_forward(X.T,parameters,activation_function)\n",
    "    for n in range(row*col):\n",
    "        img=np.reshape(X[n],(n_row,n_col))\n",
    "        fig.add_subplot(row, col, n+1)\n",
    "           \n",
    "        if(l[0][n]>0.5):\n",
    "    \n",
    "            plt.imshow(img,interpolation='none',cmap='RdPu')\n",
    "        else:\n",
    "            plt.imshow(img,interpolation='none',cmap='cool')               \n",
    "    plt.show()\n",
    "    \n",
    "def read_asc_data(filename):    \n",
    "    f= open(filename,'r') \n",
    "    tmp_str=f.readline()\n",
    "    tmp_arr=tmp_str[:-1].split(' ')\n",
    "    N=int(tmp_arr[0]);n_row=int(tmp_arr[1]);n_col=int(tmp_arr[2])\n",
    "    data=np.zeros([N,n_row*n_col+1])\n",
    "    for n in range(N):\n",
    "        tmp_str=f.readline()\n",
    "        tmp_arr=tmp_str[:-1].split(' ')       \n",
    "        for i in range(n_row*n_col+1):\n",
    "            data[n][i]=int(tmp_arr[i])\n",
    "    f.close() \n",
    "    return N,n_row,n_col,data"
   ]
  },
  {
   "cell_type": "markdown",
   "metadata": {},
   "source": [
    "> Esta célula corre todas as funções de ativação e as suas derivadas"
   ]
  },
  {
   "cell_type": "code",
   "execution_count": 12,
   "metadata": {},
   "outputs": [],
   "source": [
    "# sigmoid function\n",
    "def sigmoid(z):\n",
    "    s = 1 / (1 + np.exp(-z));\n",
    "    return s;\n",
    "\n",
    "# relu function\n",
    "def relu(z):\n",
    "    return np.where( z <= 0, 0 , z)\n",
    "\n",
    "#derivada sigmoid\n",
    "def der_sigmoid(z):\n",
    "   return sigmoid(1-sigmoid(z))\n",
    "\n",
    "#derivada tangente hiperbólica\n",
    "def der_tanh(z):\n",
    "    return (1-np.power(z,2))\n",
    "\n",
    "#derivada relu\n",
    "def der_relu(z):\n",
    "    z[z<=0] = 0\n",
    "    z[z>0] = 1\n",
    "    return z\n",
    "\n",
    "#normalization\n",
    "def normalization(ew):\n",
    "    return(ew/np.linalg.norm(ew,2))"
   ]
  },
  {
   "cell_type": "markdown",
   "metadata": {},
   "source": [
    "> Esta célula inicializa os parãmetros de uma rede neuronal, neste caso temos apenas dois layers\n",
    "\n",
    "> Input -> Hidden Layer -> Output\n"
   ]
  },
  {
   "cell_type": "code",
   "execution_count": 13,
   "metadata": {},
   "outputs": [],
   "source": [
    "# size of the fst and the last layer, and the hidden layer\n",
    "# assuming 1 hidden layer\n",
    "def inicializar_parameters(n_x,n_h,n_y):\n",
    "    \n",
    "    #w1 = np.zeros((n_h,n_x))\n",
    "    #w1 = normalization(w1)\n",
    "    w1 = np.random.randn(n_h,n_x) * 0.01;\n",
    "    b1 = np.zeros((n_h,1));\n",
    "    \n",
    "    #w2 = np.zeros((n_y,n_h))\n",
    "    #w2 = normalization(w2)\n",
    "    w2 = np.random.randn(n_y,n_h) * 0.01;\n",
    "    b2 = np.zeros((n_y,1));\n",
    "\n",
    "    parameters = {\n",
    "        \"w1\" : w1,\n",
    "        \"b1\" : b1,\n",
    "        \"w2\" : w2,\n",
    "        \"b2\" : b2\n",
    "    }\n",
    "\n",
    "    return parameters;\n"
   ]
  },
  {
   "cell_type": "markdown",
   "metadata": {},
   "source": [
    "> Esta célula faz o feed forward da rede, neste caso temos que especificar as funções de ativação\n",
    "\n",
    "> Input -> Função linear(z1) -> Função de Ativação -> Função linear(Z2) -> Função de Ativação(Sigmoid) (output)"
   ]
  },
  {
   "cell_type": "code",
   "execution_count": 14,
   "metadata": {},
   "outputs": [],
   "source": [
    "# i use the non-linear activation function called than, in the output layer i use sigmoid, cause this is a binary classification problem.\n",
    "def feed_forward(X,parameters,activation):\n",
    "    \n",
    "    \n",
    "    w1 = parameters[\"w1\"];\n",
    "    b1 = parameters[\"b1\"];\n",
    "    w2 = parameters[\"w2\"];\n",
    "    b2 = parameters[\"b2\"];\n",
    "\n",
    "    #feed_foward\n",
    "    Z1 = np.dot(w1,X) + b1; \n",
    "\n",
    "    \n",
    "    if(activation == \"tanh\"):\n",
    "        A1 = np.tanh(Z1);\n",
    "    elif(activation == \"relu\"):\n",
    "        A1 = relu(Z1);\n",
    "    elif(activation == \"sigmoid\"):\n",
    "        A1 = sigmoid(Z1);\n",
    "        \n",
    "    Z2 = np.dot(w2,A1) + b2;\n",
    "    A2 = sigmoid(Z2);\n",
    "\n",
    "    cache = {\n",
    "        \"Z1\" : Z1,\n",
    "        \"A1\" : A1,\n",
    "        \"Z2\" : Z2,\n",
    "        \"A2\" : A2\n",
    "    }\n",
    "\n",
    "    return A2, cache;"
   ]
  },
  {
   "cell_type": "markdown",
   "metadata": {},
   "source": [
    "> Função custo"
   ]
  },
  {
   "cell_type": "code",
   "execution_count": 15,
   "metadata": {},
   "outputs": [],
   "source": [
    "def calculate_cost(A2,Yt):\n",
    "    #para não estar a fazer log de 0 acrescenta-se um teta\n",
    "    e = 0.000000001\n",
    "    Cost = - np.sum(np.dot(Yt, np.log(A2+e).T) + np.dot(1 - Yt, np.log(1 - A2+e).T)) /m;  #cost function\n",
    "\n",
    "    return Cost;\n"
   ]
  },
  {
   "cell_type": "markdown",
   "metadata": {},
   "source": [
    "> Back propagation da rede, preciso as funções de ativação"
   ]
  },
  {
   "cell_type": "code",
   "execution_count": 16,
   "metadata": {},
   "outputs": [],
   "source": [
    "def back_propagation(X,Y,cache,parameters,activation):\n",
    "\n",
    "    A1 = cache[\"A1\"];\n",
    "    w1 = parameters[\"w1\"];\n",
    "    w2 = parameters[\"w2\"];\n",
    "    A2 = cache[\"A2\"];\n",
    "    \n",
    "    dZ2 = A2 - Y;\n",
    "    dW2 = np.dot(dZ2,A1.T)/m;\n",
    "    dB2 = np.sum(dZ2, axis=1, keepdims = True)/m;\n",
    "    \n",
    "    if(activation == \"relu\"):\n",
    "        dZ1 = np.multiply(np.dot(w2.T,dZ2), der_relu(A1));\n",
    "    if(activation == \"tanh\"):\n",
    "        dZ1 = np.multiply(np.dot(w2.T,dZ2), 1 - np.power(A1, 2));\n",
    "    if(activation == \"sigmoid\"):\n",
    "        dZ1 = np.multiply(np.dot(w2.T,dZ2),der_sigmoid(A1));\n",
    "    dW1 = np.dot(dZ1,X.T)/m;\n",
    "    dB1 = np.sum(dZ1,axis = 1, keepdims = True)/m;\n",
    "\n",
    "    grads = {\n",
    "        \"dW2\" : dW2,\n",
    "        \"dB2\" : dB2,\n",
    "        \"dW1\" : dW1,\n",
    "        \"dB1\" : dB1\n",
    "    }\n",
    "\n",
    "    return grads;\n"
   ]
  },
  {
   "cell_type": "markdown",
   "metadata": {},
   "source": [
    "> Otimização de parâmetros, feito após ter corrido o back propagation, e obtido os respetivos gradientes"
   ]
  },
  {
   "cell_type": "code",
   "execution_count": 17,
   "metadata": {},
   "outputs": [],
   "source": [
    "def otimize_parameters(parameters,grads,learning_rate):\n",
    "    \n",
    "    w1 = parameters[\"w1\"];\n",
    "    w2 = parameters[\"w2\"];\n",
    "    b1 = parameters[\"b1\"];\n",
    "    b2 = parameters[\"b2\"];\n",
    "\n",
    "    \n",
    "    dW2 = grads[\"dW2\"];\n",
    "    dB2 = grads[\"dB2\"];\n",
    "    dW1 = grads[\"dW1\"];\n",
    "    dB1 = grads[\"dB1\"];\n",
    "\n",
    "    #uptade de parameters\n",
    "    w2 = w2 - learning_rate * dW2;\n",
    "    w1 = w1 - learning_rate * dW1;\n",
    "    b1 = b1 - learning_rate * dB1;\n",
    "    b2 = b2 - learning_rate * dB2;\n",
    "\n",
    "    parameters = {\n",
    "        \"w1\" : w1,\n",
    "        \"b1\" : b1,\n",
    "        \"w2\" : w2,\n",
    "        \"b2\" : b2\n",
    "    }\n",
    "\n",
    "    return parameters;"
   ]
  },
  {
   "cell_type": "code",
   "execution_count": 158,
   "metadata": {},
   "outputs": [],
   "source": [
    "def model(n_h,number_iterations,learning_rate,activation):\n",
    "\n",
    "    np.random.seed(3) # we set up a seed so that your output matches ours although the initialization is random.\n",
    "    parameters = inicializar_parameters(Xt.shape[0],n_h,Yt.shape[0]);\n",
    "    \n",
    "    #previous_cost vai ser similar a um eraly stopping neste problema, qd o custo não diminuir em 100 epochs para de treinar\n",
    "    previous_cost = 1e3 \n",
    "    \n",
    "    for i in range(0,number_iterations):\n",
    "\n",
    "        A2, cache = feed_forward(Xt,parameters,activation);\n",
    "        grads = back_propagation(Xt,Yt,cache,parameters,activation);\n",
    "        parameters = otimize_parameters(parameters,grads,learning_rate);\n",
    "        \n",
    "        if(i%100 == 0):\n",
    "            cost = calculate_cost(A2,Yt)\n",
    "            print(\"Cost of iteration \" + str(i) + \"= \" + str(cost));\n",
    "            \n",
    "            if(cost >= previous_cost):\n",
    "                break\n",
    "            \n",
    "            previous_cost = cost\n",
    "            \n",
    "\n",
    "    return cache,parameters;"
   ]
  },
  {
   "cell_type": "code",
   "execution_count": 162,
   "metadata": {
    "scrolled": true
   },
   "outputs": [
    {
     "name": "stdout",
     "output_type": "stream",
     "text": [
      "find 1500 images of 12 X 12 pixels\n",
      "\n",
      "Information about the dataset : \n",
      "We have 588.0 images with label = 1 and 612.0 images with label = 0\n",
      "\n",
      "Cost of iteration 0= 0.6931245313255335\n",
      "Cost of iteration 100= 0.6929549781519034\n",
      "Cost of iteration 200= 0.6927722770867133\n",
      "Cost of iteration 300= 0.6925147777400252\n",
      "Cost of iteration 400= 0.6920919040807644\n",
      "Cost of iteration 500= 0.6913583717600403\n",
      "Cost of iteration 600= 0.6900835444078651\n",
      "Cost of iteration 700= 0.6879321426656623\n",
      "Cost of iteration 800= 0.6844973925660587\n",
      "Cost of iteration 900= 0.6794283039734539\n",
      "Cost of iteration 1000= 0.6725961757577986\n",
      "Cost of iteration 1100= 0.6641130694993691\n",
      "Cost of iteration 1200= 0.654126051438584\n",
      "Cost of iteration 1300= 0.6425958669234098\n",
      "Cost of iteration 1400= 0.6292514038131644\n",
      "Cost of iteration 1500= 0.6136734145508989\n",
      "Cost of iteration 1600= 0.5953956309247317\n",
      "Cost of iteration 1700= 0.5739884885809612\n",
      "Cost of iteration 1800= 0.5491405203264118\n",
      "Cost of iteration 1900= 0.5207492848499325\n",
      "Cost of iteration 2000= 0.48901039893829723\n",
      "Cost of iteration 2100= 0.45447281107417953\n",
      "Cost of iteration 2200= 0.4180248723371464\n",
      "Cost of iteration 2300= 0.38079478753877954\n",
      "Cost of iteration 2400= 0.3439843689717446\n",
      "Cost of iteration 2500= 0.30868730895635565\n",
      "Cost of iteration 2600= 0.2757498107574168\n",
      "Cost of iteration 2700= 0.24570747738631463\n",
      "Cost of iteration 2800= 0.2187965475706566\n",
      "Cost of iteration 2900= 0.19501306037649385\n",
      "Cost of iteration 3000= 0.17418882082367296\n",
      "Cost of iteration 3100= 0.15606173473185297\n",
      "Cost of iteration 3200= 0.14032996560512936\n",
      "Cost of iteration 3300= 0.126688249556552\n",
      "Cost of iteration 3400= 0.1148492401765463\n",
      "Cost of iteration 3500= 0.10455407278048492\n",
      "Cost of iteration 3600= 0.09557598113974947\n",
      "Cost of iteration 3700= 0.08771986788419098\n",
      "Cost of iteration 3800= 0.080819787862992\n",
      "Cost of iteration 3900= 0.07473555975910559\n",
      "Cost of iteration 4000= 0.06934920306305388\n",
      "Cost of iteration 4100= 0.06456156503943604\n",
      "Cost of iteration 4200= 0.06028930227784732\n",
      "Cost of iteration 4300= 0.05646226819219242\n",
      "Cost of iteration 4400= 0.0530212982478809\n",
      "Cost of iteration 4500= 0.04991635667781892\n",
      "Cost of iteration 4600= 0.047104998123742005\n",
      "Cost of iteration 4700= 0.0445510966621095\n",
      "Cost of iteration 4800= 0.04222379820707469\n",
      "Cost of iteration 4900= 0.040096657633027416\n",
      "Cost of iteration 5000= 0.0381469276978491\n",
      "Cost of iteration 5100= 0.03635497227324947\n",
      "Cost of iteration 5200= 0.03470378120116662\n",
      "Cost of iteration 5300= 0.03317856821035121\n",
      "Cost of iteration 5400= 0.031766436767006676\n",
      "Cost of iteration 5500= 0.030456101567216485\n",
      "Cost of iteration 5600= 0.029237655691999934\n",
      "Cost of iteration 5700= 0.028102375322922056\n",
      "Cost of iteration 5800= 0.02704255543421672\n",
      "Cost of iteration 5900= 0.02605137110291288\n",
      "Cost of iteration 6000= 0.02512276006736123\n",
      "Cost of iteration 6100= 0.024251322962847623\n",
      "Cost of iteration 6200= 0.023432238308094894\n",
      "Cost of iteration 6300= 0.02266118983860907\n",
      "Cost of iteration 6400= 0.021934304206286562\n",
      "Cost of iteration 6500= 0.021248097408883365\n",
      "Cost of iteration 6600= 0.020599428593380497\n",
      "Cost of iteration 6700= 0.0199854601063617\n",
      "Cost of iteration 6800= 0.019403622852150325\n",
      "Cost of iteration 6900= 0.018851586173562817\n",
      "Cost of iteration 7000= 0.018327231597059505\n",
      "Cost of iteration 7100= 0.01782862988890775\n",
      "Cost of iteration 7200= 0.017354020955799163\n",
      "Cost of iteration 7300= 0.0169017961954804\n",
      "Cost of iteration 7400= 0.01647048296302158\n",
      "Cost of iteration 7500= 0.01605873086851076\n",
      "Cost of iteration 7600= 0.015665299663973915\n",
      "Cost of iteration 7700= 0.015289048512592931\n",
      "Cost of iteration 7800= 0.014928926462992518\n",
      "Cost of iteration 7900= 0.014583963976432003\n",
      "Cost of iteration 8000= 0.014253265375949132\n",
      "Cost of iteration 8100= 0.013936002104496073\n",
      "Cost of iteration 8200= 0.013631406694406654\n",
      "Cost of iteration 8300= 0.013338767363577565\n",
      "Cost of iteration 8400= 0.013057423164885808\n",
      "Cost of iteration 8500= 0.01278675962490843\n",
      "Cost of iteration 8600= 0.012526204816196177\n",
      "Cost of iteration 8700= 0.012275225814397021\n",
      "Cost of iteration 8800= 0.012033325497594722\n",
      "Cost of iteration 8900= 0.011800039650469635\n",
      "Cost of iteration 9000= 0.011574934340427188\n",
      "Cost of iteration 9100= 0.01135760353677231\n",
      "Cost of iteration 9200= 0.011147666947428312\n",
      "Cost of iteration 9300= 0.010944768050672305\n",
      "Cost of iteration 9400= 0.010748572301955861\n",
      "Cost of iteration 9500= 0.010558765498145863\n",
      "Cost of iteration 9600= 0.010375052283504861\n",
      "Cost of iteration 9700= 0.010197154783470441\n",
      "Cost of iteration 9800= 0.010024811353819676\n",
      "Cost of iteration 9900= 0.009857775434149518\n",
      "Cost of iteration 10000= 0.009695814495787939\n",
      "Cost of iteration 10100= 0.009538709075294664\n",
      "Cost of iteration 10200= 0.009386251885634482\n",
      "Cost of iteration 10300= 0.009238246997923258\n",
      "Cost of iteration 10400= 0.009094509087371042\n",
      "Cost of iteration 10500= 0.008954862737689874\n",
      "Cost of iteration 10600= 0.008819141798806118\n",
      "Cost of iteration 10700= 0.008687188793225232\n",
      "Cost of iteration 10800= 0.008558854366851186\n",
      "Cost of iteration 10900= 0.008433996780467586\n",
      "Cost of iteration 11000= 0.008312481438449254\n",
      "Cost of iteration 11100= 0.008194180451596735\n",
      "Cost of iteration 11200= 0.008078972231276996\n",
      "Cost of iteration 11300= 0.007966741112312773\n",
      "Cost of iteration 11400= 0.007857377002298034\n",
      "Cost of iteration 11500= 0.00775077505522591\n",
      "Cost of iteration 11600= 0.007646835367505777\n",
      "Cost of iteration 11700= 0.007545462694615838\n",
      "Cost of iteration 11800= 0.0074465661867917305\n",
      "Cost of iteration 11900= 0.007350059142290683\n",
      "Cost of iteration 12000= 0.0072558587768962405\n",
      "Cost of iteration 12100= 0.0071638860084417616\n",
      "Cost of iteration 12200= 0.007074065255235146\n",
      "Cost of iteration 12300= 0.006986324247358923\n",
      "Cost of iteration 12400= 0.006900593849906009\n",
      "Cost of iteration 12500= 0.006816807897287849\n",
      "Cost of iteration 12600= 0.006734903037821588\n",
      "Cost of iteration 12700= 0.006654818587867079\n",
      "Cost of iteration 12800= 0.006576496394842195\n",
      "Cost of iteration 12900= 0.006499880708498361\n",
      "Cost of iteration 13000= 0.006424918059885825\n",
      "Cost of iteration 13100= 0.006351557147483666\n",
      "Cost of iteration 13200= 0.0062797487300078995\n",
      "Cost of iteration 13300= 0.006209445525450499\n",
      "Cost of iteration 13400= 0.006140602115933455\n",
      "Cost of iteration 13500= 0.006073174857995062\n",
      "Cost of iteration 13600= 0.006007121797952781\n",
      "Cost of iteration 13700= 0.005942402592013667\n",
      "Cost of iteration 13800= 0.005878978430827162\n",
      "Cost of iteration 13900= 0.005816811968197408\n",
      "Cost of iteration 14000= 0.005755867253691853\n",
      "Cost of iteration 14100= 0.005696109668902407\n",
      "Cost of iteration 14200= 0.0056375058671320494\n",
      "Cost of iteration 14300= 0.0055800237162957735\n",
      "Cost of iteration 14400= 0.005523632244839362\n",
      "Cost of iteration 14500= 0.005468301590493418\n",
      "Cost of iteration 14600= 0.005414002951691652\n",
      "Cost of iteration 14700= 0.005360708541494952\n",
      "Cost of iteration 14800= 0.005308391543872696\n",
      "Cost of iteration 14900= 0.005257026072203101\n",
      "Cost of iteration 15000= 0.005206587129863183\n",
      "Cost of iteration 15100= 0.00515705057278779\n",
      "Cost of iteration 15200= 0.005108393073884471\n",
      "Cost of iteration 15300= 0.005060592089198933\n",
      "Cost of iteration 15400= 0.005013625825732022\n",
      "Cost of iteration 15500= 0.004967473210815595\n",
      "Cost of iteration 15600= 0.0049221138629608726\n",
      "Cost of iteration 15700= 0.004877528064097459\n",
      "Cost of iteration 15800= 0.0048336967331274175\n",
      "Cost of iteration 15900= 0.004790601400722554\n",
      "Cost of iteration 16000= 0.0047482241852975105\n",
      "Cost of iteration 16100= 0.004706547770096215\n",
      "Cost of iteration 16200= 0.00466555538133203\n",
      "Cost of iteration 16300= 0.004625230767325806\n",
      "Cost of iteration 16400= 0.004585558178590008\n",
      "Cost of iteration 16500= 0.00454652234880911\n",
      "Cost of iteration 16600= 0.004508108476669894\n",
      "Cost of iteration 16700= 0.004470302208498598\n",
      "Cost of iteration 16800= 0.004433089621662778\n",
      "Cost of iteration 16900= 0.004396457208700196\n",
      "Cost of iteration 17000= 0.004360391862137135\n",
      "Cost of iteration 17100= 0.004324880859962456\n",
      "Cost of iteration 17200= 0.0042899118517244214\n",
      "Cost of iteration 17300= 0.004255472845219681\n",
      "Cost of iteration 17400= 0.004221552193745585\n",
      "Cost of iteration 17500= 0.004188138583887888\n",
      "Cost of iteration 17600= 0.004155221023818659\n",
      "Cost of iteration 17700= 0.004122788832079433\n",
      "Cost of iteration 17800= 0.004090831626826491\n",
      "Cost of iteration 17900= 0.0040593393155164284\n"
     ]
    },
    {
     "name": "stdout",
     "output_type": "stream",
     "text": [
      "Cost of iteration 18000= 0.004028302085011444\n",
      "Cost of iteration 18100= 0.00399771039208426\n",
      "Cost of iteration 18200= 0.00396755495430459\n",
      "Cost of iteration 18300= 0.0039378267412891015\n",
      "Cost of iteration 18400= 0.003908516966298472\n",
      "Cost of iteration 18500= 0.00387961707816557\n",
      "Cost of iteration 18600= 0.003851118753539593\n",
      "Cost of iteration 18700= 0.0038230138894323495\n",
      "Cost of iteration 18800= 0.003795294596052578\n",
      "Cost of iteration 18900= 0.003767953189915915\n",
      "Cost of iteration 19000= 0.003740982187218189\n",
      "Cost of iteration 19100= 0.003714374297460325\n",
      "Cost of iteration 19200= 0.0036881224173139415\n",
      "Cost of iteration 19300= 0.0036622196247172254\n",
      "Cost of iteration 19400= 0.003636659173191151\n",
      "Cost of iteration 19500= 0.0036114344863663115\n",
      "Cost of iteration 19600= 0.003586539152711761\n",
      "Cost of iteration 19700= 0.0035619669204569604\n",
      "Cost of iteration 19800= 0.00353771169269879\n",
      "Cost of iteration 19900= 0.0035137675226860126\n"
     ]
    }
   ],
   "source": [
    "# =========== Setting dataset ================\n",
    "#N,n_row,n_col,data=read_asc_data('./line600.txt')\n",
    "N,n_row,n_col,data=read_asc_data('./square_circle.txt')\n",
    "print('find %d images of %d X %d pixels' % (N,n_row,n_col))\n",
    "\n",
    "#plot_data(10,10,n_row,n_col,data)\n",
    "Nt=int(N*0.8);I=n_row*n_col; #split training vs test sets\n",
    "Xt=data[:Nt,:-1];Yt=data[:Nt,-1]\n",
    "Yt = Yt.reshape(len(Yt),1)\n",
    "\n",
    "np.place(Yt, Yt!=1, [0])\n",
    "m = Xt.shape[0]\n",
    "\n",
    "Xt = Xt.T\n",
    "Yt = Yt.T\n",
    "\n",
    "\n",
    "print(\"\\nInformation about the dataset : \")\n",
    "print(\"We have \" + str(np.sum(Yt)) + \" images with label = 1 and \" + str(Yt.shape[1]-np.sum(Yt)) + \" images with label = 0\\n\")\n",
    "\n",
    "#funções de ativação disponíveis por agora\n",
    "# * Relu\n",
    "# * Tanh\n",
    "# * Sigmoid\n",
    "activation_function = \"tanh\"\n",
    "cache,parameters = model(3,20000,0.01,activation_function)"
   ]
  },
  {
   "cell_type": "code",
   "execution_count": 166,
   "metadata": {},
   "outputs": [
    {
     "data": {
      "image/png": "[encoded data removed]",
      "text/plain": [
       "<Figure size 432x288 with 1 Axes>"
      ]
     },
     "metadata": {
      "needs_background": "light"
     },
     "output_type": "display_data"
    },
    {
     "data": {
      "image/png": "[encoded data removed]",
      "text/plain": [
       "<Figure size 432x288 with 1 Axes>"
      ]
     },
     "metadata": {
      "needs_background": "light"
     },
     "output_type": "display_data"
    },
    {
     "data": {
      "image/png": "[encoded data removed]",
      "text/plain": [
       "<Figure size 432x288 with 1 Axes>"
      ]
     },
     "metadata": {
      "needs_background": "light"
     },
     "output_type": "display_data"
    },
    {
     "data": {
      "image/png": "[encoded data removed]",
      "text/plain": [
       "<Figure size 432x288 with 1 Axes>"
      ]
     },
     "metadata": {
      "needs_background": "light"
     },
     "output_type": "display_data"
    },
    {
     "name": "stdout",
     "output_type": "stream",
     "text": [
      "(3, 144)\n",
      "(1, 3)\n"
     ]
    }
   ],
   "source": [
    "#caso os pesos sejam maiores que 0.5 digo que é 1 caso contrário 0\n",
    "def plot_weights(parameters):\n",
    "    w1 = parameters[\"w1\"]\n",
    "    w2 = parameters[\"w2\"]\n",
    "    \n",
    "  \n",
    "    img = w1.reshape(3,12,12)\n",
    "    plt.ion()\n",
    "    plt.pcolormesh(img[0], edgecolors='k', linewidth=2)\n",
    "    ax = plt.gca()\n",
    "    ax.set_aspect('equal')         \n",
    "    plt.show(block=True)\n",
    "    plt.pause(0.001)\n",
    "    plt.pcolormesh(img[1], edgecolors='k', linewidth=2)\n",
    "    ax = plt.gca()\n",
    "    ax.set_aspect('equal')         \n",
    "    plt.show(block=True)\n",
    "    plt.pause(0.001)\n",
    "    plt.pcolormesh(img[2], edgecolors='k', linewidth=2)\n",
    "    ax = plt.gca()\n",
    "    ax.set_aspect('equal')         \n",
    "    plt.show(block=True)\n",
    "    plt.pause(0.001)\n",
    "    \n",
    "    \n",
    "    plt.ion()\n",
    "    plt.pcolormesh(w2, edgecolors='k', linewidth=2)\n",
    "    ax = plt.gca()\n",
    "    ax.set_aspect('equal')         \n",
    "    plt.show(block=True)\n",
    "    plt.pause(0.001)\n",
    "    \n",
    "    print(w1.shape)\n",
    "    print(w2.shape)\n",
    "\n",
    "plot_weights(parameters)"
   ]
  },
  {
   "cell_type": "code",
   "execution_count": 110,
   "metadata": {},
   "outputs": [
    {
     "name": "stdout",
     "output_type": "stream",
     "text": [
      "----------  Confusion matrix on train set with 1200 images ------------\n"
     ]
    },
    {
     "data": {
      "image/png": "[encoded data removed]",
      "text/plain": [
       "<Figure size 432x216 with 2 Axes>"
      ]
     },
     "metadata": {
      "needs_background": "light"
     },
     "output_type": "display_data"
    },
    {
     "name": "stdout",
     "output_type": "stream",
     "text": [
      "----------  Confusion matrix on test set with 300 ------------\n"
     ]
    },
    {
     "data": {
      "image/png": "[encoded data removed]",
      "text/plain": [
       "<Figure size 432x216 with 2 Axes>"
      ]
     },
     "metadata": {
      "needs_background": "light"
     },
     "output_type": "display_data"
    }
   ],
   "source": [
    "from string import ascii_uppercase\n",
    "from pandas import DataFrame\n",
    "import numpy as np\n",
    "import seaborn as sn\n",
    "from sklearn.metrics import confusion_matrix\n",
    "\n",
    "def my_confusion_matrix(parameters):\n",
    "    \n",
    "    Ne=N-Nt;\n",
    "    Xe=data[Nt:N,:-1];Ye=data[Nt:N,-1]; \n",
    "    Ye = np.where(Ye == -1, 0,1)\n",
    "    Xe = Xe.T; Ye = Ye.T #test set\n",
    "    \n",
    "    #Xt,Yt -> train set\n",
    "    \n",
    "    predictions_train_set , _ = feed_forward(Xt,parameters,activation_function)\n",
    "    predictions_test_set , _ = feed_forward(Xe,parameters,activation_function)\n",
    "    predictions_train_set = np.where(predictions_train_set < 0.5 , 0 , 1) \n",
    "    predictions_test_set = np.where(predictions_test_set < 0.5 , 0 , 1) \n",
    "    \n",
    "    labels = [0,1]\n",
    "    columns = ['True','False']\n",
    "    \n",
    "    print(\"----------  Confusion matrix on train set with \" + str(Yt.shape[1]) + \" images ------------\")\n",
    "    \n",
    "    #data\n",
    "    y_test = Yt.T\n",
    "    predic = predictions_train_set.T\n",
    "\n",
    "    #confusion matrix\n",
    "    confm = confusion_matrix(y_test, predic,labels)\n",
    "    #confusion matrix to datafram\n",
    "    df_cm = DataFrame(confm, index=columns, columns=columns)\n",
    "    df_cm.plot(figsize=(6,3));\n",
    "    \n",
    "    #plot\n",
    "    ax = sn.heatmap(df_cm, annot=True)\n",
    "    plt.show()\n",
    "    #same thing on test set\n",
    "    print(\"----------  Confusion matrix on test set with \" + str(Ye.shape[0]) + \" ------------\")\n",
    "    y_test = Ye.T\n",
    "    predic = predictions_test_set.T\n",
    "    \n",
    "    confm = confusion_matrix(y_test, predic)\n",
    "    df_cm = DataFrame(confm, index=columns, columns=columns)\n",
    "    df_cm.plot(figsize=(6,3));\n",
    "    ax = sn.heatmap(df_cm, annot=True)\n",
    "    \n",
    "my_confusion_matrix(parameters)"
   ]
  },
  {
   "cell_type": "code",
   "execution_count": 106,
   "metadata": {},
   "outputs": [
    {
     "data": {
      "image/png": "[encoded data removed]",
      "text/plain": [
       "<Figure size 720x720 with 100 Axes>"
      ]
     },
     "metadata": {
      "needs_background": "light"
     },
     "output_type": "display_data"
    }
   ],
   "source": [
    "Ne=N-Nt;\n",
    "Xe=data[Nt:N,:-1];Ye=data[Nt:N,-1];\n",
    "Ye = np.where(Ye == -1, 0,1)\n",
    "plot_tagged_data(10,10,n_row,n_col,Xe,Ye,parameters)"
   ]
  },
  {
   "cell_type": "code",
   "execution_count": 92,
   "metadata": {},
   "outputs": [
    {
     "data": {
      "text/plain": [
       "0.2"
      ]
     },
     "execution_count": 92,
     "metadata": {},
     "output_type": "execute_result"
    }
   ],
   "source": [
    "0.002 * 100"
   ]
  },
  {
   "cell_type": "code",
   "execution_count": null,
   "metadata": {},
   "outputs": [],
   "source": []
  }
 ],
 "metadata": {
  "kernelspec": {
   "display_name": "Python 3",
   "language": "python",
   "name": "python3"
  },
  "language_info": {
   "codemirror_mode": {
    "name": "ipython",
    "version": 3
   },
   "file_extension": ".py",
   "mimetype": "text/x-python",
   "name": "python",
   "nbconvert_exporter": "python",
   "pygments_lexer": "ipython3",
   "version": "3.7.3"
  }
 },
 "nbformat": 4,
 "nbformat_minor": 2
}
