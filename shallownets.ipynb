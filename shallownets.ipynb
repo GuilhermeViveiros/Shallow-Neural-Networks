{
 "cells": [
  {
   "cell_type": "markdown",
   "metadata": {},
   "source": [
    "## Shallow Networks\n",
    "\n",
    "> X -> inputs\n",
    "\n",
    "> Y -> outputs\n",
    "\n",
    "> W -> weights (W1,W2)/(fst layer, snd layer)\n",
    "\n",
    "> b -> biases (b1,b2)/(fst layer, snd layer)\n",
    "\n",
    "> a -> prediction \n",
    "\n",
    "> L -> Loss funtion"
   ]
  },
  {
   "cell_type": "code",
   "execution_count": 217,
   "metadata": {},
   "outputs": [],
   "source": [
    "import csv\n",
    "import numpy as np\n",
    "import matplotlib.pyplot as plt\n",
    "import math\n",
    "import sys"
   ]
  },
  {
   "cell_type": "code",
   "execution_count": 218,
   "metadata": {},
   "outputs": [],
   "source": [
    "def read_asc_data(filename):    \n",
    "    f= open(filename,'r') \n",
    "    tmp_str=f.readline()\n",
    "    tmp_arr=tmp_str[:-1].split(' ')\n",
    "    N=int(tmp_arr[0]);n_row=int(tmp_arr[1]);n_col=int(tmp_arr[2])\n",
    "    data=np.zeros([N,n_row*n_col+1])\n",
    "    for n in range(N):\n",
    "        tmp_str=f.readline()\n",
    "        tmp_arr=tmp_str[:-1].split(' ')       \n",
    "        for i in range(n_row*n_col+1):\n",
    "            data[n][i]=int(tmp_arr[i])\n",
    "    f.close() \n",
    "    return N,n_row,n_col,data"
   ]
  },
  {
   "cell_type": "code",
   "execution_count": 219,
   "metadata": {},
   "outputs": [],
   "source": [
    "def plot_data(row,col,n_row,n_col,data):\n",
    "    fig=plt.figure(figsize=(row,col))\n",
    "    for n in range(1, row*col +1):\n",
    "        img=np.reshape(data[n-1][:-1],(n_row,n_col))\n",
    "        fig.add_subplot(row, col, n)\n",
    "        plt.imshow(img,interpolation='none',cmap='binary')\n",
    "    plt.show()"
   ]
  },
  {
   "cell_type": "code",
   "execution_count": 220,
   "metadata": {},
   "outputs": [],
   "source": [
    "def plot_tagged_data(row,col,n_row,n_col,X,Y,parameters): \n",
    "    fig=plt.figure(figsize=(row,col))\n",
    "    \n",
    "    l = predict(parameters,X)\n",
    "    print(l.shape)\n",
    "    print(l)\n",
    "    \n",
    "    for n in range(row*col):\n",
    "        img=np.reshape(X[n],(n_row,n_col))\n",
    "        fig.add_subplot(row, col, n+1)\n",
    "   \n",
    "        if(l[n]>0.5):\n",
    "            plt.imshow(img,interpolation='none',cmap='RdPu')\n",
    "        else:\n",
    "            plt.imshow(img,interpolation='none',cmap='cool')               \n",
    "    plt.show()"
   ]
  },
  {
   "cell_type": "code",
   "execution_count": 221,
   "metadata": {},
   "outputs": [],
   "source": [
    "def cost(predict,true_labels):\n",
    "    \n",
    "    m = len(predict)\n",
    "    \n",
    "    Loss = 1/(2*m) + np.sum((predict-true_labels)**2)\n",
    "\n",
    "    return Loss"
   ]
  },
  {
   "cell_type": "code",
   "execution_count": 222,
   "metadata": {},
   "outputs": [],
   "source": [
    "def build_shallowNet(input_shape,output_shape, units):\n",
    "    \n",
    "    #m imagens, n pixeis\n",
    "    (m,n) = input_shape\n",
    "    (_,o) = output_shape\n",
    "    u = units\n",
    "    \n",
    "    W1 = np.random.randn(n,u)*0.01 #(m,n) * (n,u) = (m,u)\n",
    "    b1 = np.zeros(shape=(1,u))\n",
    "    \n",
    "    \n",
    "    W2 = np.random.rand(u,o)*0.01  #(m,u) * (u,o) = (m,o)\n",
    "    b2 = np.zeros(shape=(1,o)) \n",
    "    \n",
    "    #print(\"W1 shape = \" + str(W1.shape))\n",
    "    \n",
    "    #print(\"W2 shape = \" + str(W2.shape))\n",
    "    \n",
    "    return W1,b1,W2,b2\n",
    "    "
   ]
  },
  {
   "cell_type": "code",
   "execution_count": 223,
   "metadata": {},
   "outputs": [],
   "source": [
    "def sigmoid(z):\n",
    "    s = 1 / (1 + np.exp(-z));\n",
    "    return s;"
   ]
  },
  {
   "cell_type": "code",
   "execution_count": 229,
   "metadata": {},
   "outputs": [],
   "source": [
    "# X -> Linear -> Sigmoid -> Linear -> Sigmoid\n",
    "def feed_forward(X,W1,b1,W2,b2):\n",
    "    \n",
    "    Z1 = np.dot(X,W1) + b1\n",
    "    A1 = np.tanh(Z1)\n",
    "    \n",
    "    Z2 = np.dot(A1,W2) + b2\n",
    "    A2 = sigmoid(Z2)\n",
    "    \n",
    "    cache = (Z1,A1,Z2,A2)\n",
    "    parameters = (W1,b1,W2,b2)\n",
    "    \n",
    "    return parameters,cache,A2"
   ]
  },
  {
   "cell_type": "code",
   "execution_count": 230,
   "metadata": {},
   "outputs": [],
   "source": [
    "def back_propagation(parameters,cache,Yt):\n",
    "    \n",
    "    (Z1,A1,Z2,A2) = cache\n",
    "    (W1,b1,W2,b2) = parameters\n",
    "    \n",
    "    m = (A2.shape[1])#número de imagens\n",
    "    \n",
    "    #dW2 ou dW1 significa que o gradiente da função custo em relação ao determinado peso, W1 ou W2\n",
    "    \n",
    "    dW2 = np.dot(  (((1/m) * (A2-Yt)) * sigmoid(1-sigmoid(Z2))).T , A1 )\n",
    "    dW2 = dW2.T\n",
    "    \n",
    "    #print(dW2.shape)\n",
    "    \n",
    "\n",
    "    dW1 = np.dot((np.dot( (((1/m) * (A2-Yt)) * sigmoid(1-sigmoid(Z2))), W2.T ) *  sigmoid(sigmoid(Z1))).T, Xt)\n",
    "    dW1 = dW1.T\n",
    "    \n",
    "    #print(dW1.shape)\n",
    "    \n",
    "    return dW1,dW2"
   ]
  },
  {
   "cell_type": "code",
   "execution_count": 231,
   "metadata": {},
   "outputs": [],
   "source": [
    "def update(dW1,dW2,parameters,lr):\n",
    "    (W1,b1,W2,b2) = parameters\n",
    "    W1 = W1 - lr * dW1\n",
    "    W2 = W2 - lr * dW2\n",
    "    \n",
    "    parameters = (W1,b1,W2,b2)\n",
    "    \n",
    "    return parameters"
   ]
  },
  {
   "cell_type": "code",
   "execution_count": 232,
   "metadata": {},
   "outputs": [],
   "source": [
    "def predict(parameters,X):\n",
    "    (W1,b1,W2,b2) = parameters\n",
    "    parameters,cache,A2 = feed_forward(Xt,W1,b1,W2,b2)\n",
    "    return A2"
   ]
  },
  {
   "cell_type": "code",
   "execution_count": 237,
   "metadata": {},
   "outputs": [
    {
     "name": "stdout",
     "output_type": "stream",
     "text": [
      "find 1500 images of 12 X 12 pixels\n",
      "Loss function of = 300.0474644177084\n",
      "Loss function of = 290.97658314781836\n",
      "Loss function of = 273.8700715328008\n",
      "Loss function of = 268.9005520089931\n",
      "Loss function of = 262.18809798755\n",
      "Loss function of = 252.95539733466998\n",
      "Loss function of = 241.17180976740846\n",
      "Loss function of = 228.36649903635887\n",
      "Loss function of = 216.75025297737452\n",
      "Loss function of = 207.29414477244657\n",
      "Loss function of = 199.76584467573116\n",
      "Loss function of = 193.6458495756306\n",
      "Loss function of = 188.51728110031652\n",
      "Loss function of = 184.10432324650176\n",
      "Loss function of = 180.23847457814665\n",
      "Loss function of = 176.82369453691192\n",
      "Loss function of = 173.80899770622779\n",
      "Loss function of = 171.16829414412388\n",
      "Loss function of = 168.8847534474955\n",
      "Loss function of = 166.93618672986824\n",
      "Loss function of = 165.27951870349776\n",
      "Loss function of = 163.83617091260547\n",
      "Loss function of = 162.48474868912692\n",
      "Loss function of = 161.0694186688281\n",
      "Loss function of = 159.42754459824826\n",
      "Loss function of = 157.42870928675916\n",
      "Loss function of = 155.00827296677014\n",
      "Loss function of = 152.18293133183928\n",
      "Loss function of = 149.0482413343348\n",
      "Loss function of = 145.7599759039079\n",
      "Loss function of = 142.49365506662204\n",
      "Loss function of = 139.38468147367755\n",
      "Loss function of = 136.475400587606\n",
      "Loss function of = 133.70019764568693\n",
      "Loss function of = 130.91200858779123\n",
      "Loss function of = 127.92707628745192\n",
      "Loss function of = 124.56809634240308\n",
      "Loss function of = 120.70038954278071\n",
      "Loss function of = 116.25601789016648\n",
      "Loss function of = 111.23773232245873\n",
      "Loss function of = 105.70419868142531\n",
      "Loss function of = 99.74997358387927\n",
      "Loss function of = 93.49383003945353\n",
      "Loss function of = 87.07826604842616\n",
      "Loss function of = 80.66777056356798\n",
      "Loss function of = 74.4233981045432\n",
      "Loss function of = 68.44692669314321\n",
      "Loss function of = 62.726776458857444\n",
      "Loss function of = 57.14182479086611\n",
      "Loss function of = 51.56820323944615\n",
      "Loss function of = 46.03948277814845\n",
      "Loss function of = 40.7620969713369\n",
      "Loss function of = 35.94686709756132\n",
      "Loss function of = 31.695358378096856\n",
      "Loss function of = 28.012683655398327\n",
      "Loss function of = 24.859481326676786\n",
      "Loss function of = 22.193344712837003\n",
      "Loss function of = 19.980407488712387\n",
      "Loss function of = 18.186716113637964\n",
      "Loss function of = 16.771779992292743\n",
      "Loss function of = 15.691706204116318\n",
      "Loss function of = 14.906134275454399\n",
      "Loss function of = 14.383677295680059\n",
      "Loss function of = 14.10504160239562\n",
      "Loss function of = 14.065078060792843\n",
      "Loss function of = 14.275129960245522\n"
     ]
    }
   ],
   "source": [
    "#=========== Setting dataset ================\n",
    "#N,n_row,n_col,data=read_asc_data('./line600.txt')\n",
    "N,n_row,n_col,data=read_asc_data('./square_circle.txt')\n",
    "print('find %d images of %d X %d pixels' % (N,n_row,n_col))\n",
    "\n",
    "#plot_data(10,10,n_row,n_col,data)\n",
    "Nt=int(N*0.8);I=n_row*n_col; #split training vs test sets\n",
    "Xt=data[:Nt,:-1];Yt=data[:Nt,-1]\n",
    "Yt = Yt.reshape(len(Yt),1)\n",
    "np.place(Yt, Yt!=1, [0])\n",
    "\n",
    "\n",
    "#=========== Shallow Net code ===============\n",
    "epochs = 100000\n",
    "previous_loss = 6000\n",
    "\n",
    "W1,b1,W2,b2 = build_shallowNet(Xt.shape,Yt.shape, 64) #initialization of weights\n",
    "\n",
    "for epoch in range(epochs):\n",
    "\n",
    "    parameters,cache,A2 = feed_forward(Xt,W1,b1,W2,b2)#propagation\n",
    "\n",
    "    loss = cost(A2,Yt)#cost/loss function\n",
    "    \n",
    "    if(epoch % 100 == 0):\n",
    "        print(\"Loss function of = \" + str(loss))\n",
    "        if(previous_loss < loss):\n",
    "            break\n",
    "        previous_loss = loss\n",
    "    \n",
    "    dW1,dW2 = back_propagation(parameters,cache,Yt)#back propagation, weights update\n",
    "    \n",
    "    parameters = update(dW1,dW2,parameters,lr = 0.0001)\n",
    "    \n",
    "    W1,b1,W2,b2 = parameters\n"
   ]
  },
  {
   "cell_type": "code",
   "execution_count": 238,
   "metadata": {},
   "outputs": [
    {
     "name": "stdout",
     "output_type": "stream",
     "text": [
      "(1200, 1)\n",
      "[[0.90443059]\n",
      " [0.14881144]\n",
      " [0.23606072]\n",
      " ...\n",
      " [0.08347825]\n",
      " [0.84026817]\n",
      " [0.15984577]]\n"
     ]
    },
    {
     "data": {
      "image/png": "[encoded data removed]",
      "text/plain": [
       "<Figure size 720x720 with 100 Axes>"
      ]
     },
     "metadata": {
      "needs_background": "light"
     },
     "output_type": "display_data"
    }
   ],
   "source": [
    "#=========== Test Set visualization ===============\n",
    "Ne=N-Nt;\n",
    "Xe=data[Nt:N,:-1];Ye=data[Nt:N,-1];\n",
    "np.place(Yt, Yt!=1, [0])\n",
    "\n",
    "plot_tagged_data(10,10,n_row,n_col,Xe,Ye,parameters)"
   ]
  },
  {
   "cell_type": "code",
   "execution_count": 239,
   "metadata": {},
   "outputs": [
    {
     "name": "stdout",
     "output_type": "stream",
     "text": [
      "588\n"
     ]
    }
   ],
   "source": [
    "print(np.sum(A2 > 0.5))"
   ]
  },
  {
   "cell_type": "code",
   "execution_count": 164,
   "metadata": {},
   "outputs": [],
   "source": []
  },
  {
   "cell_type": "code",
   "execution_count": null,
   "metadata": {},
   "outputs": [],
   "source": []
  }
 ],
 "metadata": {
  "kernelspec": {
   "display_name": "Python 3",
   "language": "python",
   "name": "python3"
  },
  "language_info": {
   "codemirror_mode": {
    "name": "ipython",
    "version": 3
   },
   "file_extension": ".py",
   "mimetype": "text/x-python",
   "name": "python",
   "nbconvert_exporter": "python",
   "pygments_lexer": "ipython3",
   "version": "3.7.3"
  }
 },
 "nbformat": 4,
 "nbformat_minor": 2
}
